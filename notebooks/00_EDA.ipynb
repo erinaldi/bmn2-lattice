{
 "metadata": {
  "language_info": {
   "codemirror_mode": {
    "name": "ipython",
    "version": 3
   },
   "file_extension": ".py",
   "mimetype": "text/x-python",
   "name": "python",
   "nbconvert_exporter": "python",
   "pygments_lexer": "ipython3",
   "version": "3.7.6"
  },
  "orig_nbformat": 2,
  "kernelspec": {
   "name": "python3",
   "display_name": "Python 3.7.6 64-bit ('base': conda)"
  }
 },
 "nbformat": 4,
 "nbformat_minor": 2,
 "cells": [
  {
   "cell_type": "markdown",
   "source": [
    "# EDA of simulation results"
   ],
   "metadata": {}
  },
  {
   "cell_type": "code",
   "execution_count": 1,
   "source": [
    "import numpy as np\n",
    "import pandas as pd\n",
    "from emcee import autocorr"
   ],
   "outputs": [],
   "metadata": {}
  },
  {
   "cell_type": "markdown",
   "source": [
    "## Look at one output file"
   ],
   "metadata": {}
  },
  {
   "cell_type": "code",
   "execution_count": 2,
   "source": [
    "N = \"3\"\n",
    "T = \"005\"\n",
    "L = \"16\"\n",
    "G = \"20\""
   ],
   "outputs": [],
   "metadata": {}
  },
  {
   "cell_type": "code",
   "execution_count": null,
   "source": [
    "filenameA = f\"../../lattice/improv_runs/bmn2_su{N}_g{G}/l{L}/t{T}/N{N}L{L}M1C{G}0T{T}-masa.txt\"\n",
    "filenameB = f\"../../lattice/improv_runs/bmn2_su{N}_g{G}/l{L}/t{T}/N{N}L{L}M1C{G}0T{T}-1.txt\""
   ],
   "outputs": [],
   "metadata": {}
  },
  {
   "cell_type": "code",
   "execution_count": 3,
   "source": [
    "filename = f\"../../lattice/improv_runs/bmn2_su{N}_g{G}/l{L}/t{T}/data.h5\""
   ],
   "outputs": [],
   "metadata": {}
  },
  {
   "cell_type": "code",
   "execution_count": 4,
   "source": [
    "import os \n",
    "assert os.path.isfile(filename)\n",
    "# assert os.path.isfile(filenameA)\n",
    "# assert os.path.isfile(filenameB)\n"
   ],
   "outputs": [],
   "metadata": {}
  },
  {
   "cell_type": "code",
   "execution_count": 5,
   "source": [
    "print(filename)"
   ],
   "outputs": [
    {
     "output_type": "stream",
     "name": "stdout",
     "text": [
      "../../lattice/improv_runs/bmn2_su3_g20/l16/t005/data.h5\n"
     ]
    }
   ],
   "metadata": {}
  },
  {
   "cell_type": "markdown",
   "source": [
    "The output files (`.txt`) have a header that needs to be removed. The log files (`log`) correspond only to the final run and do not have a header."
   ],
   "metadata": {}
  },
  {
   "cell_type": "code",
   "execution_count": 5,
   "source": [
    "#data = pd.read_csv(filenameA, sep='\\s+', skiprows=7, names=[\"tj\",\"dH\",\"e\",\"p\",\"x2\",\"f2\",\"ub\",\"acc\"], dtype=float)\n",
    "data_new = pd.read_csv(filenameB, sep='\\s+', skiprows=7, names=[\"tj\",\"dH\",\"e\",\"p\",\"x2\",\"f2\",\"ub\",\"acc\"], dtype=float)"
   ],
   "outputs": [],
   "metadata": {}
  },
  {
   "cell_type": "markdown",
   "source": [
    "Instead the `h5` files are already perfectly arranged to be read by `pandas` giving the key `mcmc_obs`"
   ],
   "metadata": {}
  },
  {
   "cell_type": "code",
   "execution_count": 6,
   "source": [
    "data_new = pd.read_hdf(filename, \"mcmc_obs\")"
   ],
   "outputs": [],
   "metadata": {}
  },
  {
   "cell_type": "code",
   "execution_count": 7,
   "source": [
    "data_new.head()"
   ],
   "outputs": [
    {
     "output_type": "execute_result",
     "data": {
      "text/plain": [
       "           dH         e         p        x2        f2            ub       acc  \\\n",
       "tj                                                                              \n",
       "50  -0.370606  0.593551  0.294690  0.380909  0.141761  2.664535e-15  0.920000   \n",
       "100  0.480375  0.557740  0.352764  0.391230  0.111007  1.776357e-15  0.890000   \n",
       "150  0.636062  0.587183  0.400663  0.424610  0.108382  1.776357e-15  0.906667   \n",
       "200  0.368415  0.674543  0.165762  0.445127  0.152944  5.329071e-15  0.905000   \n",
       "250 -0.466777  0.483944  0.277192  0.337364  0.097720  4.884981e-15  0.896000   \n",
       "\n",
       "     nmat  ntau   xdtau   udtau  temperature  mass  coupling   mdtu  \n",
       "tj                                                                   \n",
       "50      3    16  0.0625  0.0625         0.05   1.0       2.0   50.0  \n",
       "100     3    16  0.0625  0.0625         0.05   1.0       2.0  100.0  \n",
       "150     3    16  0.0625  0.0625         0.05   1.0       2.0  150.0  \n",
       "200     3    16  0.0625  0.0625         0.05   1.0       2.0  200.0  \n",
       "250     3    16  0.0625  0.0625         0.05   1.0       2.0  250.0  "
      ],
      "text/html": [
       "<div>\n",
       "<style scoped>\n",
       "    .dataframe tbody tr th:only-of-type {\n",
       "        vertical-align: middle;\n",
       "    }\n",
       "\n",
       "    .dataframe tbody tr th {\n",
       "        vertical-align: top;\n",
       "    }\n",
       "\n",
       "    .dataframe thead th {\n",
       "        text-align: right;\n",
       "    }\n",
       "</style>\n",
       "<table border=\"1\" class=\"dataframe\">\n",
       "  <thead>\n",
       "    <tr style=\"text-align: right;\">\n",
       "      <th></th>\n",
       "      <th>dH</th>\n",
       "      <th>e</th>\n",
       "      <th>p</th>\n",
       "      <th>x2</th>\n",
       "      <th>f2</th>\n",
       "      <th>ub</th>\n",
       "      <th>acc</th>\n",
       "      <th>nmat</th>\n",
       "      <th>ntau</th>\n",
       "      <th>xdtau</th>\n",
       "      <th>udtau</th>\n",
       "      <th>temperature</th>\n",
       "      <th>mass</th>\n",
       "      <th>coupling</th>\n",
       "      <th>mdtu</th>\n",
       "    </tr>\n",
       "    <tr>\n",
       "      <th>tj</th>\n",
       "      <th></th>\n",
       "      <th></th>\n",
       "      <th></th>\n",
       "      <th></th>\n",
       "      <th></th>\n",
       "      <th></th>\n",
       "      <th></th>\n",
       "      <th></th>\n",
       "      <th></th>\n",
       "      <th></th>\n",
       "      <th></th>\n",
       "      <th></th>\n",
       "      <th></th>\n",
       "      <th></th>\n",
       "      <th></th>\n",
       "    </tr>\n",
       "  </thead>\n",
       "  <tbody>\n",
       "    <tr>\n",
       "      <th>50</th>\n",
       "      <td>-0.370606</td>\n",
       "      <td>0.593551</td>\n",
       "      <td>0.294690</td>\n",
       "      <td>0.380909</td>\n",
       "      <td>0.141761</td>\n",
       "      <td>2.664535e-15</td>\n",
       "      <td>0.920000</td>\n",
       "      <td>3</td>\n",
       "      <td>16</td>\n",
       "      <td>0.0625</td>\n",
       "      <td>0.0625</td>\n",
       "      <td>0.05</td>\n",
       "      <td>1.0</td>\n",
       "      <td>2.0</td>\n",
       "      <td>50.0</td>\n",
       "    </tr>\n",
       "    <tr>\n",
       "      <th>100</th>\n",
       "      <td>0.480375</td>\n",
       "      <td>0.557740</td>\n",
       "      <td>0.352764</td>\n",
       "      <td>0.391230</td>\n",
       "      <td>0.111007</td>\n",
       "      <td>1.776357e-15</td>\n",
       "      <td>0.890000</td>\n",
       "      <td>3</td>\n",
       "      <td>16</td>\n",
       "      <td>0.0625</td>\n",
       "      <td>0.0625</td>\n",
       "      <td>0.05</td>\n",
       "      <td>1.0</td>\n",
       "      <td>2.0</td>\n",
       "      <td>100.0</td>\n",
       "    </tr>\n",
       "    <tr>\n",
       "      <th>150</th>\n",
       "      <td>0.636062</td>\n",
       "      <td>0.587183</td>\n",
       "      <td>0.400663</td>\n",
       "      <td>0.424610</td>\n",
       "      <td>0.108382</td>\n",
       "      <td>1.776357e-15</td>\n",
       "      <td>0.906667</td>\n",
       "      <td>3</td>\n",
       "      <td>16</td>\n",
       "      <td>0.0625</td>\n",
       "      <td>0.0625</td>\n",
       "      <td>0.05</td>\n",
       "      <td>1.0</td>\n",
       "      <td>2.0</td>\n",
       "      <td>150.0</td>\n",
       "    </tr>\n",
       "    <tr>\n",
       "      <th>200</th>\n",
       "      <td>0.368415</td>\n",
       "      <td>0.674543</td>\n",
       "      <td>0.165762</td>\n",
       "      <td>0.445127</td>\n",
       "      <td>0.152944</td>\n",
       "      <td>5.329071e-15</td>\n",
       "      <td>0.905000</td>\n",
       "      <td>3</td>\n",
       "      <td>16</td>\n",
       "      <td>0.0625</td>\n",
       "      <td>0.0625</td>\n",
       "      <td>0.05</td>\n",
       "      <td>1.0</td>\n",
       "      <td>2.0</td>\n",
       "      <td>200.0</td>\n",
       "    </tr>\n",
       "    <tr>\n",
       "      <th>250</th>\n",
       "      <td>-0.466777</td>\n",
       "      <td>0.483944</td>\n",
       "      <td>0.277192</td>\n",
       "      <td>0.337364</td>\n",
       "      <td>0.097720</td>\n",
       "      <td>4.884981e-15</td>\n",
       "      <td>0.896000</td>\n",
       "      <td>3</td>\n",
       "      <td>16</td>\n",
       "      <td>0.0625</td>\n",
       "      <td>0.0625</td>\n",
       "      <td>0.05</td>\n",
       "      <td>1.0</td>\n",
       "      <td>2.0</td>\n",
       "      <td>250.0</td>\n",
       "    </tr>\n",
       "  </tbody>\n",
       "</table>\n",
       "</div>"
      ]
     },
     "metadata": {},
     "execution_count": 7
    }
   ],
   "metadata": {}
  },
  {
   "cell_type": "code",
   "execution_count": 8,
   "source": [
    "# data.dH.plot(), \n",
    "data_new.dH.plot()"
   ],
   "outputs": [
    {
     "output_type": "execute_result",
     "data": {
      "text/plain": [
       "<AxesSubplot:xlabel='tj'>"
      ]
     },
     "metadata": {},
     "execution_count": 8
    },
    {
     "output_type": "display_data",
     "data": {
      "text/plain": [
       "<Figure size 432x288 with 1 Axes>"
      ],
      "image/png": "[encoded data removed]"
     },
     "metadata": {
      "needs_background": "light"
     }
    }
   ],
   "metadata": {}
  },
  {
   "cell_type": "code",
   "execution_count": 9,
   "source": [
    "# data.x2.plot(), \n",
    "data_new.x2.plot()"
   ],
   "outputs": [
    {
     "output_type": "execute_result",
     "data": {
      "text/plain": [
       "<AxesSubplot:xlabel='tj'>"
      ]
     },
     "metadata": {},
     "execution_count": 9
    },
    {
     "output_type": "display_data",
     "data": {
      "text/plain": [
       "<Figure size 432x288 with 1 Axes>"
      ],
      "image/png": "[encoded data removed]"
     },
     "metadata": {
      "needs_background": "light"
     }
    }
   ],
   "metadata": {}
  },
  {
   "cell_type": "code",
   "execution_count": 10,
   "source": [
    "# data.p.plot(kind=\"kde\"), \n",
    "data_new.p.plot(kind=\"kde\")"
   ],
   "outputs": [
    {
     "output_type": "execute_result",
     "data": {
      "text/plain": [
       "<AxesSubplot:ylabel='Density'>"
      ]
     },
     "metadata": {},
     "execution_count": 10
    },
    {
     "output_type": "display_data",
     "data": {
      "text/plain": [
       "<Figure size 432x288 with 1 Axes>"
      ],
      "image/png": "[encoded data removed]"
     },
     "metadata": {
      "needs_background": "light"
     }
    }
   ],
   "metadata": {}
  },
  {
   "cell_type": "code",
   "execution_count": 11,
   "source": [
    "# data.e.plot(), \n",
    "data_new.e.plot()"
   ],
   "outputs": [
    {
     "output_type": "execute_result",
     "data": {
      "text/plain": [
       "<AxesSubplot:xlabel='tj'>"
      ]
     },
     "metadata": {},
     "execution_count": 11
    },
    {
     "output_type": "display_data",
     "data": {
      "text/plain": [
       "<Figure size 432x288 with 1 Axes>"
      ],
      "image/png": "[encoded data removed]"
     },
     "metadata": {
      "needs_background": "light"
     }
    }
   ],
   "metadata": {}
  },
  {
   "cell_type": "code",
   "execution_count": 12,
   "source": [
    "# data.e.plot(kind=\"hist\", bins=20), \n",
    "data_new.e.plot(kind=\"hist\", bins=20)"
   ],
   "outputs": [
    {
     "output_type": "execute_result",
     "data": {
      "text/plain": [
       "<AxesSubplot:ylabel='Frequency'>"
      ]
     },
     "metadata": {},
     "execution_count": 12
    },
    {
     "output_type": "display_data",
     "data": {
      "text/plain": [
       "<Figure size 432x288 with 1 Axes>"
      ],
      "image/png": "[encoded data removed]"
     },
     "metadata": {
      "needs_background": "light"
     }
    }
   ],
   "metadata": {}
  },
  {
   "cell_type": "code",
   "execution_count": 13,
   "source": [
    "# data.e.plot(kind=\"kde\"), \n",
    "data_new.e.plot(kind=\"kde\")"
   ],
   "outputs": [
    {
     "output_type": "execute_result",
     "data": {
      "text/plain": [
       "<AxesSubplot:ylabel='Density'>"
      ]
     },
     "metadata": {},
     "execution_count": 13
    },
    {
     "output_type": "display_data",
     "data": {
      "text/plain": [
       "<Figure size 432x288 with 1 Axes>"
      ],
      "image/png": "[encoded data removed]"
     },
     "metadata": {
      "needs_background": "light"
     }
    }
   ],
   "metadata": {}
  },
  {
   "cell_type": "code",
   "execution_count": 14,
   "source": [
    "# data.ub.plot(), \n",
    "data_new.ub.plot()"
   ],
   "outputs": [
    {
     "output_type": "execute_result",
     "data": {
      "text/plain": [
       "<AxesSubplot:xlabel='tj'>"
      ]
     },
     "metadata": {},
     "execution_count": 14
    },
    {
     "output_type": "display_data",
     "data": {
      "text/plain": [
       "<Figure size 432x288 with 1 Axes>"
      ],
      "image/png": "[encoded data removed]"
     },
     "metadata": {
      "needs_background": "light"
     }
    }
   ],
   "metadata": {}
  },
  {
   "cell_type": "code",
   "execution_count": 15,
   "source": [
    "tau = autocorr.integrated_time(data_new.e.values)\n",
    "print(tau[0])"
   ],
   "outputs": [
    {
     "output_type": "stream",
     "name": "stdout",
     "text": [
      "0.8385841731717818\n"
     ]
    }
   ],
   "metadata": {}
  },
  {
   "cell_type": "code",
   "execution_count": 16,
   "source": [
    "#data.describe().T\n",
    "data_new.describe().T"
   ],
   "outputs": [
    {
     "output_type": "execute_result",
     "data": {
      "text/plain": [
       "              count          mean           std           min           25%  \\\n",
       "dH           2000.0  7.922143e-02  3.734973e-01 -1.282990e+00 -1.586195e-01   \n",
       "e            2000.0  5.905436e-01  7.412637e-02  3.327446e-01  5.387832e-01   \n",
       "p            2000.0  2.953357e-01  1.519199e-01  4.402698e-03  1.858597e-01   \n",
       "x2           2000.0  3.967530e-01  3.996427e-02  2.519524e-01  3.692408e-01   \n",
       "f2           2000.0  1.291937e-01  2.675093e-02  5.386146e-02  1.104992e-01   \n",
       "ub           2000.0  3.303358e-15  1.179452e-15 -1.776357e-15  2.664535e-15   \n",
       "acc          2000.0  8.599369e-01  3.158815e-03  8.400000e-01  8.586724e-01   \n",
       "nmat         2000.0  3.000000e+00  0.000000e+00  3.000000e+00  3.000000e+00   \n",
       "ntau         2000.0  1.600000e+01  0.000000e+00  1.600000e+01  1.600000e+01   \n",
       "xdtau        2000.0  6.250000e-02  0.000000e+00  6.250000e-02  6.250000e-02   \n",
       "udtau        2000.0  6.250000e-02  0.000000e+00  6.250000e-02  6.250000e-02   \n",
       "temperature  2000.0  5.000000e-02  6.940629e-18  5.000000e-02  5.000000e-02   \n",
       "mass         2000.0  1.000000e+00  0.000000e+00  1.000000e+00  1.000000e+00   \n",
       "coupling     2000.0  2.000000e+00  0.000000e+00  2.000000e+00  2.000000e+00   \n",
       "mdtu         2000.0  5.002500e+04  2.887473e+04  5.000000e+01  2.503750e+04   \n",
       "\n",
       "                      50%           75%           max  \n",
       "dH           7.986530e-02  3.256474e-01  1.280688e+00  \n",
       "e            5.865016e-01  6.352303e-01  8.788281e-01  \n",
       "p            2.760860e-01  3.805716e-01  8.649290e-01  \n",
       "x2           3.950734e-01  4.229001e-01  5.604485e-01  \n",
       "f2           1.273252e-01  1.454646e-01  2.478128e-01  \n",
       "ub           3.108624e-15  3.996803e-15  8.437695e-15  \n",
       "acc          8.597767e-01  8.604319e-01  9.200000e-01  \n",
       "nmat         3.000000e+00  3.000000e+00  3.000000e+00  \n",
       "ntau         1.600000e+01  1.600000e+01  1.600000e+01  \n",
       "xdtau        6.250000e-02  6.250000e-02  6.250000e-02  \n",
       "udtau        6.250000e-02  6.250000e-02  6.250000e-02  \n",
       "temperature  5.000000e-02  5.000000e-02  5.000000e-02  \n",
       "mass         1.000000e+00  1.000000e+00  1.000000e+00  \n",
       "coupling     2.000000e+00  2.000000e+00  2.000000e+00  \n",
       "mdtu         5.002500e+04  7.501250e+04  1.000000e+05  "
      ],
      "text/html": [
       "<div>\n",
       "<style scoped>\n",
       "    .dataframe tbody tr th:only-of-type {\n",
       "        vertical-align: middle;\n",
       "    }\n",
       "\n",
       "    .dataframe tbody tr th {\n",
       "        vertical-align: top;\n",
       "    }\n",
       "\n",
       "    .dataframe thead th {\n",
       "        text-align: right;\n",
       "    }\n",
       "</style>\n",
       "<table border=\"1\" class=\"dataframe\">\n",
       "  <thead>\n",
       "    <tr style=\"text-align: right;\">\n",
       "      <th></th>\n",
       "      <th>count</th>\n",
       "      <th>mean</th>\n",
       "      <th>std</th>\n",
       "      <th>min</th>\n",
       "      <th>25%</th>\n",
       "      <th>50%</th>\n",
       "      <th>75%</th>\n",
       "      <th>max</th>\n",
       "    </tr>\n",
       "  </thead>\n",
       "  <tbody>\n",
       "    <tr>\n",
       "      <th>dH</th>\n",
       "      <td>2000.0</td>\n",
       "      <td>7.922143e-02</td>\n",
       "      <td>3.734973e-01</td>\n",
       "      <td>-1.282990e+00</td>\n",
       "      <td>-1.586195e-01</td>\n",
       "      <td>7.986530e-02</td>\n",
       "      <td>3.256474e-01</td>\n",
       "      <td>1.280688e+00</td>\n",
       "    </tr>\n",
       "    <tr>\n",
       "      <th>e</th>\n",
       "      <td>2000.0</td>\n",
       "      <td>5.905436e-01</td>\n",
       "      <td>7.412637e-02</td>\n",
       "      <td>3.327446e-01</td>\n",
       "      <td>5.387832e-01</td>\n",
       "      <td>5.865016e-01</td>\n",
       "      <td>6.352303e-01</td>\n",
       "      <td>8.788281e-01</td>\n",
       "    </tr>\n",
       "    <tr>\n",
       "      <th>p</th>\n",
       "      <td>2000.0</td>\n",
       "      <td>2.953357e-01</td>\n",
       "      <td>1.519199e-01</td>\n",
       "      <td>4.402698e-03</td>\n",
       "      <td>1.858597e-01</td>\n",
       "      <td>2.760860e-01</td>\n",
       "      <td>3.805716e-01</td>\n",
       "      <td>8.649290e-01</td>\n",
       "    </tr>\n",
       "    <tr>\n",
       "      <th>x2</th>\n",
       "      <td>2000.0</td>\n",
       "      <td>3.967530e-01</td>\n",
       "      <td>3.996427e-02</td>\n",
       "      <td>2.519524e-01</td>\n",
       "      <td>3.692408e-01</td>\n",
       "      <td>3.950734e-01</td>\n",
       "      <td>4.229001e-01</td>\n",
       "      <td>5.604485e-01</td>\n",
       "    </tr>\n",
       "    <tr>\n",
       "      <th>f2</th>\n",
       "      <td>2000.0</td>\n",
       "      <td>1.291937e-01</td>\n",
       "      <td>2.675093e-02</td>\n",
       "      <td>5.386146e-02</td>\n",
       "      <td>1.104992e-01</td>\n",
       "      <td>1.273252e-01</td>\n",
       "      <td>1.454646e-01</td>\n",
       "      <td>2.478128e-01</td>\n",
       "    </tr>\n",
       "    <tr>\n",
       "      <th>ub</th>\n",
       "      <td>2000.0</td>\n",
       "      <td>3.303358e-15</td>\n",
       "      <td>1.179452e-15</td>\n",
       "      <td>-1.776357e-15</td>\n",
       "      <td>2.664535e-15</td>\n",
       "      <td>3.108624e-15</td>\n",
       "      <td>3.996803e-15</td>\n",
       "      <td>8.437695e-15</td>\n",
       "    </tr>\n",
       "    <tr>\n",
       "      <th>acc</th>\n",
       "      <td>2000.0</td>\n",
       "      <td>8.599369e-01</td>\n",
       "      <td>3.158815e-03</td>\n",
       "      <td>8.400000e-01</td>\n",
       "      <td>8.586724e-01</td>\n",
       "      <td>8.597767e-01</td>\n",
       "      <td>8.604319e-01</td>\n",
       "      <td>9.200000e-01</td>\n",
       "    </tr>\n",
       "    <tr>\n",
       "      <th>nmat</th>\n",
       "      <td>2000.0</td>\n",
       "      <td>3.000000e+00</td>\n",
       "      <td>0.000000e+00</td>\n",
       "      <td>3.000000e+00</td>\n",
       "      <td>3.000000e+00</td>\n",
       "      <td>3.000000e+00</td>\n",
       "      <td>3.000000e+00</td>\n",
       "      <td>3.000000e+00</td>\n",
       "    </tr>\n",
       "    <tr>\n",
       "      <th>ntau</th>\n",
       "      <td>2000.0</td>\n",
       "      <td>1.600000e+01</td>\n",
       "      <td>0.000000e+00</td>\n",
       "      <td>1.600000e+01</td>\n",
       "      <td>1.600000e+01</td>\n",
       "      <td>1.600000e+01</td>\n",
       "      <td>1.600000e+01</td>\n",
       "      <td>1.600000e+01</td>\n",
       "    </tr>\n",
       "    <tr>\n",
       "      <th>xdtau</th>\n",
       "      <td>2000.0</td>\n",
       "      <td>6.250000e-02</td>\n",
       "      <td>0.000000e+00</td>\n",
       "      <td>6.250000e-02</td>\n",
       "      <td>6.250000e-02</td>\n",
       "      <td>6.250000e-02</td>\n",
       "      <td>6.250000e-02</td>\n",
       "      <td>6.250000e-02</td>\n",
       "    </tr>\n",
       "    <tr>\n",
       "      <th>udtau</th>\n",
       "      <td>2000.0</td>\n",
       "      <td>6.250000e-02</td>\n",
       "      <td>0.000000e+00</td>\n",
       "      <td>6.250000e-02</td>\n",
       "      <td>6.250000e-02</td>\n",
       "      <td>6.250000e-02</td>\n",
       "      <td>6.250000e-02</td>\n",
       "      <td>6.250000e-02</td>\n",
       "    </tr>\n",
       "    <tr>\n",
       "      <th>temperature</th>\n",
       "      <td>2000.0</td>\n",
       "      <td>5.000000e-02</td>\n",
       "      <td>6.940629e-18</td>\n",
       "      <td>5.000000e-02</td>\n",
       "      <td>5.000000e-02</td>\n",
       "      <td>5.000000e-02</td>\n",
       "      <td>5.000000e-02</td>\n",
       "      <td>5.000000e-02</td>\n",
       "    </tr>\n",
       "    <tr>\n",
       "      <th>mass</th>\n",
       "      <td>2000.0</td>\n",
       "      <td>1.000000e+00</td>\n",
       "      <td>0.000000e+00</td>\n",
       "      <td>1.000000e+00</td>\n",
       "      <td>1.000000e+00</td>\n",
       "      <td>1.000000e+00</td>\n",
       "      <td>1.000000e+00</td>\n",
       "      <td>1.000000e+00</td>\n",
       "    </tr>\n",
       "    <tr>\n",
       "      <th>coupling</th>\n",
       "      <td>2000.0</td>\n",
       "      <td>2.000000e+00</td>\n",
       "      <td>0.000000e+00</td>\n",
       "      <td>2.000000e+00</td>\n",
       "      <td>2.000000e+00</td>\n",
       "      <td>2.000000e+00</td>\n",
       "      <td>2.000000e+00</td>\n",
       "      <td>2.000000e+00</td>\n",
       "    </tr>\n",
       "    <tr>\n",
       "      <th>mdtu</th>\n",
       "      <td>2000.0</td>\n",
       "      <td>5.002500e+04</td>\n",
       "      <td>2.887473e+04</td>\n",
       "      <td>5.000000e+01</td>\n",
       "      <td>2.503750e+04</td>\n",
       "      <td>5.002500e+04</td>\n",
       "      <td>7.501250e+04</td>\n",
       "      <td>1.000000e+05</td>\n",
       "    </tr>\n",
       "  </tbody>\n",
       "</table>\n",
       "</div>"
      ]
     },
     "metadata": {},
     "execution_count": 16
    }
   ],
   "metadata": {}
  },
  {
   "cell_type": "code",
   "execution_count": 17,
   "source": [
    "np.mean(data_new.e * float(N)**2)"
   ],
   "outputs": [
    {
     "output_type": "execute_result",
     "data": {
      "text/plain": [
       "5.314891984818244"
      ]
     },
     "metadata": {},
     "execution_count": 17
    }
   ],
   "metadata": {}
  },
  {
   "cell_type": "markdown",
   "source": [
    "# Extract $E$"
   ],
   "metadata": {}
  },
  {
   "cell_type": "markdown",
   "source": [
    "Use the `h5` file which contains the entire MCMC run"
   ],
   "metadata": {}
  },
  {
   "cell_type": "code",
   "execution_count": 27,
   "source": [
    "Ts = [\"04\", \"035\", \"03\", \"025\", \"02\", \"015\", \"01\", \"005\", \"0025\"]\n",
    "Ls = [\"16\", \"24\", \"32\", \"48\", \"64\", \"96\", \"128\", \"192\"]\n",
    "cut = 5 # thermalization cut in units of 50 trajectories: if tau=1 then cut=10 is 10x the autocorr time\n",
    "N = 3\n",
    "G = \"20\"\n",
    "for L in Ls:\n",
    "    for T in Ts:\n",
    "        filename = f\"../../lattice/improv_runs/bmn2_su{N}_g{G}/l{L}/t{T}/data.h5\"\n",
    "        try:\n",
    "            data = pd.read_hdf(filename, \"mcmc_obs\")\n",
    "            data.e = data.e * float(N)**2\n",
    "            avg, std = data.iloc[cut:].e.mean(), data.iloc[cut:].e.std()\n",
    "            bins = data.iloc[cut:].shape[0]\n",
    "            tau = autocorr.integrated_time(data.iloc[cut:].e.values, tol=0)\n",
    "            print(f\"T=0.{T[1:]} L={L}\\nAverage energy: {avg:.4f} +/- {std/np.sqrt(bins):.4f} | bins={bins} | tau={tau[0]:.2f}\")\n",
    "        except (ValueError, FileNotFoundError) as e:\n",
    "            print(f\"{e} . Skipping...\")"
   ],
   "outputs": [
    {
     "output_type": "stream",
     "name": "stdout",
     "text": [
      "T=0.4 L=16\n",
      "Average energy: 8.8227 +/- 0.0536 | bins=1995 | tau=1.14\n",
      "T=0.35 L=16\n",
      "Average energy: 8.5095 +/- 0.0481 | bins=1995 | tau=0.89\n",
      "T=0.3 L=16\n",
      "Average energy: 8.2726 +/- 0.0438 | bins=1995 | tau=0.98\n",
      "T=0.25 L=16\n",
      "Average energy: 8.1085 +/- 0.0401 | bins=1995 | tau=0.99\n",
      "T=0.2 L=16\n",
      "Average energy: 7.7815 +/- 0.0346 | bins=1995 | tau=0.82\n",
      "T=0.15 L=16\n",
      "Average energy: 7.3192 +/- 0.0292 | bins=1995 | tau=1.06\n",
      "T=0.1 L=16\n",
      "Average energy: 6.6147 +/- 0.0237 | bins=1995 | tau=0.95\n",
      "T=0.05 L=16\n",
      "Average energy: 5.3151 +/- 0.0149 | bins=1995 | tau=0.84\n",
      "T=0.025 L=16\n",
      "Average energy: 3.9540 +/- 0.0095 | bins=1995 | tau=0.96\n",
      "T=0.4 L=24\n",
      "Average energy: 9.1891 +/- 0.0540 | bins=1995 | tau=1.10\n",
      "T=0.35 L=24\n",
      "Average energy: 9.0700 +/- 0.0511 | bins=1995 | tau=0.89\n",
      "T=0.3 L=24\n",
      "Average energy: 8.8690 +/- 0.0463 | bins=1995 | tau=0.91\n",
      "T=0.25 L=24\n",
      "Average energy: 8.6077 +/- 0.0407 | bins=1995 | tau=0.86\n",
      "T=0.2 L=24\n",
      "Average energy: 8.3149 +/- 0.0380 | bins=1995 | tau=0.73\n",
      "T=0.15 L=24\n",
      "Average energy: 7.8971 +/- 0.0313 | bins=1995 | tau=1.02\n",
      "T=0.1 L=24\n",
      "Average energy: 7.3479 +/- 0.0240 | bins=1995 | tau=0.96\n",
      "T=0.05 L=24\n",
      "Average energy: 6.0656 +/- 0.0159 | bins=1995 | tau=0.95\n",
      "T=0.025 L=24\n",
      "Average energy: 4.7625 +/- 0.0103 | bins=1995 | tau=1.14\n",
      "T=0.4 L=32\n",
      "Average energy: 9.3909 +/- 0.0531 | bins=1995 | tau=0.98\n",
      "T=0.35 L=32\n",
      "Average energy: 9.1040 +/- 0.0478 | bins=1995 | tau=0.88\n",
      "T=0.3 L=32\n",
      "Average energy: 9.2385 +/- 0.0468 | bins=1995 | tau=1.14\n",
      "T=0.25 L=32\n",
      "Average energy: 8.9534 +/- 0.0404 | bins=1995 | tau=1.08\n",
      "T=0.2 L=32\n",
      "Average energy: 8.7134 +/- 0.0371 | bins=1995 | tau=1.12\n",
      "T=0.15 L=32\n",
      "Average energy: 8.3330 +/- 0.0311 | bins=1995 | tau=0.93\n",
      "T=0.1 L=32\n",
      "Average energy: 7.7595 +/- 0.0252 | bins=1995 | tau=1.05\n",
      "T=0.05 L=32\n",
      "Average energy: 6.6041 +/- 0.0167 | bins=1995 | tau=1.14\n",
      "T=0.025 L=32\n",
      "Average energy: 5.3228 +/- 0.0106 | bins=1995 | tau=1.00\n",
      "T=0.4 L=48\n",
      "Average energy: 9.6272 +/- 0.0536 | bins=1995 | tau=0.98\n",
      "T=0.35 L=48\n",
      "Average energy: 9.5453 +/- 0.0517 | bins=1995 | tau=0.86\n",
      "T=0.3 L=48\n",
      "Average energy: 9.3777 +/- 0.0464 | bins=1995 | tau=0.98\n",
      "T=0.25 L=48\n",
      "Average energy: 9.3489 +/- 0.0422 | bins=1995 | tau=0.96\n",
      "T=0.2 L=48\n",
      "Average energy: 9.1853 +/- 0.0375 | bins=1995 | tau=0.99\n",
      "T=0.15 L=48\n",
      "Average energy: 8.8118 +/- 0.0317 | bins=1995 | tau=0.89\n",
      "T=0.1 L=48\n",
      "Average energy: 8.3289 +/- 0.0250 | bins=1995 | tau=1.13\n",
      "T=0.05 L=48\n",
      "Average energy: 7.3129 +/- 0.0174 | bins=1995 | tau=0.97\n",
      "T=0.025 L=48\n",
      "Average energy: 6.0819 +/- 0.0109 | bins=1995 | tau=1.04\n",
      "T=0.4 L=64\n",
      "Average energy: 9.8360 +/- 0.0553 | bins=1995 | tau=1.00\n",
      "T=0.35 L=64\n",
      "Average energy: 9.7193 +/- 0.0512 | bins=1995 | tau=0.88\n",
      "T=0.3 L=64\n",
      "Average energy: 9.5736 +/- 0.0465 | bins=1995 | tau=0.95\n",
      "T=0.25 L=64\n",
      "Average energy: 9.4639 +/- 0.0416 | bins=1995 | tau=0.97\n",
      "T=0.2 L=64\n",
      "Average energy: 9.3201 +/- 0.0371 | bins=1995 | tau=0.90\n",
      "T=0.15 L=64\n",
      "Average energy: 9.1097 +/- 0.0332 | bins=1995 | tau=0.91\n",
      "T=0.1 L=64\n",
      "Average energy: 8.6688 +/- 0.0262 | bins=1995 | tau=1.07\n",
      "T=0.05 L=64\n",
      "Average energy: 7.7548 +/- 0.0179 | bins=1995 | tau=0.91\n",
      "T=0.025 L=64\n",
      "Average energy: 6.6041 +/- 0.0116 | bins=1995 | tau=0.98\n",
      "T=0.4 L=96\n",
      "Average energy: 9.8773 +/- 0.0539 | bins=1995 | tau=1.13\n",
      "T=0.35 L=96\n",
      "Average energy: 9.9336 +/- 0.0513 | bins=1995 | tau=0.99\n",
      "T=0.3 L=96\n",
      "Average energy: 9.8163 +/- 0.0460 | bins=1995 | tau=1.05\n",
      "T=0.25 L=96\n",
      "Average energy: 9.7745 +/- 0.0428 | bins=1995 | tau=1.11\n",
      "T=0.2 L=96\n",
      "Average energy: 9.6453 +/- 0.0387 | bins=1995 | tau=1.01\n",
      "T=0.15 L=96\n",
      "Average energy: 9.4062 +/- 0.0328 | bins=1995 | tau=0.95\n",
      "T=0.1 L=96\n",
      "Average energy: 9.1115 +/- 0.0261 | bins=1995 | tau=0.86\n",
      "T=0.05 L=96\n",
      "Average energy: 8.3077 +/- 0.0179 | bins=1995 | tau=1.00\n",
      "T=0.025 L=96\n",
      "Average energy: 7.2886 +/- 0.0123 | bins=1995 | tau=1.13\n",
      "T=0.4 L=128\n",
      "Average energy: 9.9230 +/- 0.0533 | bins=1995 | tau=1.16\n",
      "T=0.35 L=128\n",
      "Average energy: 10.0118 +/- 0.0510 | bins=1995 | tau=1.16\n",
      "T=0.3 L=128\n",
      "Average energy: 10.0418 +/- 0.0485 | bins=1995 | tau=0.93\n",
      "T=0.25 L=128\n",
      "Average energy: 9.8550 +/- 0.0421 | bins=1995 | tau=0.91\n",
      "T=0.2 L=128\n",
      "Average energy: 9.7957 +/- 0.0385 | bins=1995 | tau=0.99\n",
      "T=0.15 L=128\n",
      "Average energy: 9.6557 +/- 0.0333 | bins=1995 | tau=0.95\n",
      "T=0.1 L=128\n",
      "Average energy: 9.3362 +/- 0.0268 | bins=1995 | tau=1.19\n",
      "T=0.05 L=128\n",
      "Average energy: 8.6796 +/- 0.0180 | bins=1995 | tau=0.93\n",
      "T=0.025 L=128\n",
      "Average energy: 7.7498 +/- 0.0123 | bins=1995 | tau=0.96\n",
      "T=0.4 L=192\n",
      "Average energy: 10.1306 +/- 0.0547 | bins=1995 | tau=0.98\n",
      "T=0.35 L=192\n",
      "Average energy: 10.1229 +/- 0.0520 | bins=1995 | tau=0.97\n",
      "T=0.3 L=192\n",
      "Average energy: 10.0719 +/- 0.0461 | bins=1995 | tau=0.98\n",
      "T=0.25 L=192\n",
      "Average energy: 9.9084 +/- 0.0433 | bins=1995 | tau=0.95\n",
      "T=0.2 L=192\n",
      "Average energy: 9.8886 +/- 0.0398 | bins=1995 | tau=1.12\n",
      "T=0.15 L=192\n",
      "Average energy: 9.8484 +/- 0.0335 | bins=1995 | tau=1.09\n",
      "T=0.1 L=192\n",
      "Average energy: 9.6628 +/- 0.0270 | bins=1995 | tau=1.13\n",
      "T=0.05 L=192\n",
      "Average energy: 9.1282 +/- 0.0188 | bins=1995 | tau=0.97\n",
      "T=0.025 L=192\n",
      "Average energy: 8.3346 +/- 0.0126 | bins=1995 | tau=1.07\n"
     ]
    }
   ],
   "metadata": {}
  },
  {
   "cell_type": "markdown",
   "source": [
    "Use the `log` file which is always the last simulation output. Remember there is no header..."
   ],
   "metadata": {}
  },
  {
   "cell_type": "code",
   "execution_count": null,
   "source": [
    "Ts = [\"04\", \"035\", \"03\", \"025\", \"02\", \"015\", \"01\", \"005\", \"0025\"]\n",
    "Ls = [\"16\", \"24\", \"32\", \"48\", \"64\", \"96\", \"128\", \"192\"]\n",
    "cut = 10 # thermalization cut in units of 50 trajectories: if tau=1 then cut=10 is 10x the autocorr time\n",
    "N = 3\n",
    "G = \"10\"\n",
    "for L in Ls:\n",
    "    for T in Ts:\n",
    "        filename = f\"../improv_runs/bmn2_su{N}_g{G}/l{L}/t{T}/log\"\n",
    "        try:\n",
    "            data = pd.read_csv(filename, sep=\"\\s+\", names=[\"tj\",\"dH\",\"e\",\"p\",\"x2\",\"f2\",\"ub\",\"acc\"], dtype=float)\n",
    "            data.e = data.e * float(N)**2\n",
    "            avg, std = data.iloc[cut:].e.mean(), data.iloc[cut:].e.std()\n",
    "            bins = data.iloc[cut:].shape[0]\n",
    "            tau = autocorr.integrated_time(data.iloc[cut:].e.values)\n",
    "            print(f\"T=0.{T[1:]} L={L}\\nAverage energy: {avg:.4f} +/- {std/np.sqrt(bins):.4f} | bins={bins} | tau={tau[0]:.2f}\")\n",
    "        except (ValueError, FileNotFoundError) as e:\n",
    "            print(f\"{e} . Skipping...\")"
   ],
   "outputs": [],
   "metadata": {}
  },
  {
   "cell_type": "markdown",
   "source": [
    "* Create an ouput csv file with the energies (multiplied by $N^2$)"
   ],
   "metadata": {}
  },
  {
   "cell_type": "code",
   "execution_count": null,
   "source": [
    "Ts = [\"04\", \"035\", \"03\", \"025\", \"02\", \"015\", \"01\", \"005\", \"0025\"]#, \"001\"]\n",
    "Ls = [\"16\", \"24\", \"32\", \"48\", \"64\", \"96\", \"128\", \"192\"]\n",
    "cut = 10 # thermalization cut in units of 100 trajectories\n",
    "N = 3\n",
    "G = \"20\"\n",
    "# header\n",
    "print(f\"T,L,E,err,bins,tau\")\n",
    "for L in Ls:\n",
    "    for T in Ts:\n",
    "        filename = f\"../improv_runs/bmn2_su{N}_g{G}/l{L}/t{T}/log\"\n",
    "        try:\n",
    "            data = pd.read_csv(filename, sep=\"\\s+\", names=[\"tj\",\"dH\",\"e\",\"p\",\"x2\",\"f2\",\"ub\",\"acc\"], dtype=float)\n",
    "            data.e = data.e * float(N)**2\n",
    "            avg, std = data.iloc[cut:].e.mean(), data.iloc[cut:].e.std()\n",
    "            bins = data.iloc[cut:].shape[0]\n",
    "            tau = autocorr.integrated_time(data.iloc[cut:].e.values)\n",
    "            print(f\"0.{T[1:]},{L},{avg:.4f},{std/np.sqrt(bins):.4f},{bins},{tau[0]:.2f}\")\n",
    "        except (ValueError, FileNotFoundError) as e:\n",
    "            pass"
   ],
   "outputs": [],
   "metadata": {}
  },
  {
   "cell_type": "markdown",
   "source": [
    "* use the `hdf5` file to compute the averages"
   ],
   "metadata": {}
  },
  {
   "cell_type": "code",
   "execution_count": 26,
   "source": [
    "Ts = [\"04\", \"035\", \"03\", \"025\", \"02\", \"015\", \"01\", \"005\", \"0025\"]#, \"001\"]\n",
    "Ls = [\"16\", \"24\", \"32\", \"48\", \"64\", \"96\", \"128\", \"192\"]\n",
    "cut = 10 # thermalization cut\n",
    "N = 2\n",
    "G = \"20\"\n",
    "# header\n",
    "header = f\"T,L,E,err,bins,tau\"\n",
    "print(header)\n",
    "for L in Ls:\n",
    "    for T in Ts:\n",
    "        filename = f\"../../lattice/improv_runs/bmn2_su{N}_g{G}/l{L}/t{T}/data.h5\"\n",
    "        try:\n",
    "            data = pd.read_hdf(filename, \"mcmc_obs\")\n",
    "            data.e = data.e * float(N)**2\n",
    "            avg, std = data.iloc[cut:].e.mean(), data.iloc[cut:].e.std()\n",
    "            bins = data.iloc[cut:].shape[0]\n",
    "            tau = autocorr.integrated_time(data.iloc[cut:].e.values, tol=0)\n",
    "            print(f\"0.{T[1:]},{L},{avg:.4f},{std/np.sqrt(bins):.4f},{bins},{tau[0]:.2f}\")\n",
    "        except (ValueError, FileNotFoundError) as e:\n",
    "            pass"
   ],
   "outputs": [
    {
     "output_type": "stream",
     "name": "stdout",
     "text": [
      "T,L,E,err,bins,tau\n",
      "0.4,16,3.2941,0.0319,1990,0.97\n",
      "0.3,16,3.1267,0.0266,1990,0.97\n",
      "0.25,16,3.0151,0.0242,1990,0.83\n",
      "0.2,16,2.9215,0.0218,1990,0.91\n",
      "0.15,16,2.7528,0.0183,1990,0.79\n",
      "0.1,16,2.4766,0.0146,1990,1.11\n",
      "0.05,16,1.9929,0.0094,1990,1.08\n",
      "0.4,24,3.4264,0.0323,1990,1.11\n",
      "0.3,24,3.2871,0.0282,1990,0.92\n",
      "0.25,24,3.2349,0.0245,1990,1.23\n",
      "0.2,24,3.1005,0.0220,1990,1.05\n",
      "0.15,24,2.9353,0.0185,1990,1.11\n",
      "0.1,24,2.7215,0.0145,1990,0.99\n",
      "0.05,24,2.2926,0.0098,1990,1.06\n",
      "0.4,32,3.5352,0.0322,1990,0.94\n",
      "0.3,32,3.3825,0.0276,1990,1.02\n",
      "0.25,32,3.3951,0.0265,1990,1.15\n",
      "0.2,32,3.2619,0.0224,1990,1.00\n",
      "0.15,32,3.1565,0.0197,1990,0.99\n",
      "0.1,32,2.9217,0.0158,1990,0.88\n",
      "0.05,32,2.4626,0.0102,1990,1.00\n",
      "0.4,48,3.6478,0.0336,1990,1.16\n",
      "0.3,48,3.5200,0.0280,1990,0.99\n",
      "0.25,48,3.5182,0.0255,1990,1.03\n",
      "0.2,48,3.4468,0.0234,1990,1.11\n",
      "0.15,48,3.3256,0.0200,1990,1.13\n",
      "0.1,48,3.1333,0.0158,1990,0.89\n",
      "0.05,48,2.7212,0.0102,1990,0.96\n",
      "0.4,64,3.6681,0.0334,1990,1.03\n",
      "0.3,64,3.6972,0.0295,1990,0.93\n",
      "0.25,64,3.5605,0.0253,1990,0.95\n",
      "0.2,64,3.5118,0.0232,1990,1.17\n",
      "0.15,64,3.3958,0.0193,1990,0.81\n",
      "0.1,64,3.2445,0.0155,1990,1.01\n",
      "0.05,64,2.9130,0.0108,1990,1.08\n",
      "0.4,96,3.7380,0.0341,1990,1.16\n",
      "0.3,96,3.7337,0.0293,1990,1.10\n",
      "0.25,96,3.6593,0.0267,1990,0.80\n",
      "0.2,96,3.6309,0.0235,1990,1.04\n",
      "0.15,96,3.5310,0.0203,1990,0.89\n",
      "0.1,96,3.3807,0.0160,1990,0.89\n",
      "0.05,96,3.1203,0.0112,1990,0.96\n",
      "0.4,128,3.7989,0.0344,1990,0.87\n",
      "0.3,128,3.7254,0.0283,1990,1.19\n",
      "0.25,128,3.6962,0.0262,1990,1.03\n",
      "0.2,128,3.6434,0.0226,1990,1.04\n",
      "0.15,128,3.6173,0.0198,1990,0.93\n",
      "0.1,128,3.5061,0.0160,1990,0.99\n",
      "0.05,128,3.2631,0.0115,1990,1.20\n",
      "0.4,192,3.7430,0.0336,1990,0.93\n",
      "0.3,192,3.7400,0.0284,1990,1.06\n",
      "0.25,192,3.7666,0.0265,1990,1.00\n",
      "0.2,192,3.7367,0.0233,1990,0.90\n",
      "0.15,192,3.7054,0.0202,1990,0.96\n",
      "0.1,192,3.5839,0.0163,1990,0.94\n",
      "0.05,192,3.4255,0.0115,1990,1.16\n"
     ]
    }
   ],
   "metadata": {}
  },
  {
   "cell_type": "markdown",
   "source": [
    "### Finite temperature runs"
   ],
   "metadata": {}
  },
  {
   "cell_type": "code",
   "execution_count": 11,
   "source": [
    "Ts = [\"01\", \"02\", \"03\", \"04\", \"05\", \"06\", \"07\", \"08\", \"09\", \"10\"]\n",
    "Ls = [\"16\", \"24\", \"32\", \"48\", \"64\", \"96\", \"128\", \"192\"]\n",
    "cut = 5 # thermalization cut in units of 100 trajectories\n",
    "N = 2\n",
    "G = \"10\"\n",
    "# header\n",
    "print(f\"T,L,E,err,bins,tau\")\n",
    "for L in Ls:\n",
    "    for T in Ts:\n",
    "        filename = f\"../improv_runs/bmn2_su{N}_g{G}/l{L}/t{T}/log\"\n",
    "        try:\n",
    "            data = pd.read_csv(filename, sep=\"\\s+\", names=[\"tj\",\"dH\",\"e\",\"p\",\"x2\",\"f2\",\"ub\",\"acc\"], dtype=float)\n",
    "            data.e = data.e * float(N)**2\n",
    "            avg, std = data.iloc[cut:].e.mean(), data.iloc[cut:].e.std()\n",
    "            bins = data.iloc[cut:].shape[0]\n",
    "            tau = autocorr.integrated_time(data.iloc[cut:].e.values)\n",
    "            # T is treated as a number\n",
    "            print(f\"{int(T)/10:.1f},{L},{avg:.4f},{std/np.sqrt(bins):.4f},{bins},{tau[0]:.2f}\")\n",
    "        except (ValueError, FileNotFoundError) as e:\n",
    "            pass"
   ],
   "outputs": [
    {
     "output_type": "stream",
     "name": "stdout",
     "text": [
      "T,L,E,err,bins,tau\n",
      "0.1,16,2.3593,0.0134,1975,0.76\n",
      "0.2,16,2.7986,0.0204,1975,0.92\n",
      "0.3,16,2.9725,0.0263,1955,1.02\n",
      "0.4,16,3.0794,0.0310,1955,0.97\n",
      "0.5,16,3.1925,0.0344,1975,0.97\n",
      "0.6,16,3.3095,0.0400,1975,1.05\n",
      "0.7,16,3.5350,0.0486,1975,1.02\n",
      "0.8,16,3.5356,0.0500,1975,1.11\n",
      "0.9,16,3.8143,0.0554,1975,1.06\n",
      "1.0,16,4.0055,0.0627,1975,0.91\n",
      "0.1,24,2.5931,0.0140,1975,1.00\n",
      "0.2,24,2.9265,0.0203,1975,0.91\n",
      "0.3,24,3.1035,0.0265,1975,0.88\n",
      "0.4,24,3.1613,0.0297,1955,1.15\n",
      "0.5,24,3.2657,0.0345,1975,0.75\n",
      "0.6,24,3.4522,0.0410,1975,0.74\n",
      "0.7,24,3.5958,0.0447,1975,0.95\n",
      "0.8,24,3.6414,0.0486,1975,0.92\n",
      "0.9,24,3.8823,0.0566,1975,1.13\n",
      "1.0,24,4.0061,0.0576,1975,0.96\n",
      "0.1,32,2.7371,0.0141,1975,0.97\n",
      "0.2,32,3.0587,0.0207,1975,1.05\n",
      "0.3,32,3.1597,0.0258,1975,1.15\n",
      "0.4,32,3.2724,0.0304,1975,1.08\n",
      "0.5,32,3.3803,0.0362,1995,0.96\n",
      "0.6,32,3.4324,0.0410,1995,0.94\n",
      "0.7,32,3.6111,0.0438,1995,0.94\n",
      "0.8,32,3.7112,0.0504,1995,0.91\n",
      "0.9,32,3.8486,0.0536,1995,0.96\n",
      "1.0,32,4.0917,0.0589,1995,1.11\n",
      "0.1,48,2.9108,0.0145,1975,0.97\n",
      "0.2,48,3.1941,0.0211,1975,1.00\n",
      "0.3,48,3.2805,0.0270,1975,0.97\n",
      "0.4,48,3.3731,0.0315,1975,0.97\n",
      "0.5,48,3.3723,0.0348,1975,0.79\n",
      "0.6,48,3.5319,0.0391,1975,1.11\n",
      "0.7,48,3.6108,0.0449,1975,1.00\n",
      "0.8,48,3.7250,0.0495,1975,1.04\n",
      "0.9,48,4.0141,0.0573,1975,1.08\n",
      "1.0,48,4.0986,0.0593,1975,0.99\n",
      "0.1,64,3.0402,0.0147,1975,1.05\n",
      "0.2,64,3.2609,0.0210,1975,0.95\n",
      "0.3,64,3.3516,0.0264,1975,0.92\n",
      "0.4,64,3.3938,0.0315,1975,0.99\n",
      "0.5,64,3.4614,0.0345,1975,1.10\n",
      "0.6,64,3.5686,0.0405,1975,1.14\n",
      "0.7,64,3.6904,0.0447,1975,0.99\n",
      "0.8,64,3.9410,0.0504,1975,1.23\n",
      "0.9,64,3.9377,0.0535,1975,1.17\n",
      "1.0,64,4.2152,0.0606,1975,1.26\n",
      "0.1,96,3.1789,0.0154,1975,0.87\n",
      "0.2,96,3.3390,0.0219,1975,1.38\n",
      "0.3,96,3.3431,0.0267,1975,1.08\n",
      "0.4,96,3.4754,0.0308,1975,0.95\n",
      "0.5,96,3.5056,0.0355,1995,0.92\n",
      "0.6,96,3.6799,0.0436,1995,1.33\n",
      "0.7,96,3.7581,0.0457,1995,1.15\n",
      "0.8,96,3.8289,0.0479,1995,1.22\n",
      "0.9,96,3.9990,0.0549,1995,1.67\n",
      "1.0,96,4.1960,0.0619,1995,1.91\n",
      "0.1,128,3.2375,0.0147,1975,0.95\n",
      "0.2,128,3.3678,0.0215,1975,1.24\n",
      "0.3,128,3.4181,0.0271,1975,1.08\n",
      "0.5,128,3.5670,0.0365,1995,1.19\n",
      "0.6,128,3.5488,0.0403,1995,1.29\n",
      "0.7,128,3.7179,0.0448,1995,1.55\n",
      "0.8,128,3.9126,0.0515,1995,1.56\n",
      "0.9,128,3.9675,0.0552,1995,1.49\n",
      "1.0,128,4.1045,0.0589,1995,1.84\n",
      "0.1,192,3.3308,0.0148,1975,0.94\n",
      "0.2,192,3.4389,0.0219,1975,1.12\n",
      "0.3,192,3.4617,0.0271,1955,1.36\n"
     ]
    }
   ],
   "metadata": {}
  },
  {
   "cell_type": "markdown",
   "source": [
    "# Extract $R^2$"
   ],
   "metadata": {}
  },
  {
   "cell_type": "markdown",
   "source": [
    "### EDA"
   ],
   "metadata": {}
  },
  {
   "cell_type": "markdown",
   "source": [
    "### Loop over temperatures"
   ],
   "metadata": {}
  },
  {
   "cell_type": "code",
   "execution_count": 17,
   "source": [
    "Ts = [\"04\", \"03\", \"025\", \"02\", \"015\", \"01\", \"005\"] #, \"0025\", \"001\"]\n",
    "Ls = [\"16\", \"24\", \"32\", \"48\", \"64\", \"96\", \"128\", \"192\"]\n",
    "cut = 5 # thermalization cut in units of 50 trajectories\n",
    "N = 3\n",
    "G = \"05\"\n",
    "for L in Ls:\n",
    "    for T in Ts:\n",
    "        filename = f\"../improv_runs/bmn2_su{N}_g{G}/l{L}/t{T}/log\"\n",
    "        try:\n",
    "            data = pd.read_csv(filename, sep=\"\\s+\", names=[\"tj\",\"dH\",\"e\",\"p\",\"x2\",\"f2\",\"ub\",\"acc\"], dtype=np.float)\n",
    "            data.x2 = data.x2 * float(N)\n",
    "            avg, std = data.iloc[cut:].x2.mean(), data.iloc[cut:].x2.std()\n",
    "            bins = data.iloc[cut:].shape[0]\n",
    "            tau = autocorr.integrated_time(data.iloc[cut:].x2.values)\n",
    "            print(f\"T=0.{T[1:]} L={L}\\nAverage R2: {avg:.4f} +/- {std/np.sqrt(bins):.4f} | bins={bins} | tau={tau[0]:.2f}\")\n",
    "        except (ValueError, FileNotFoundError) as e:\n",
    "            print(f\"{e} . Skipping...\")"
   ],
   "outputs": [
    {
     "output_type": "stream",
     "name": "stdout",
     "text": [
      "T=0.4 L=16\n",
      "Average R2: 2.0789 +/- 0.0159 | bins=985 | tau=0.78\n",
      "T=0.3 L=16\n",
      "Average R2: 1.9954 +/- 0.0123 | bins=985 | tau=1.04\n",
      "T=0.25 L=16\n",
      "Average R2: 1.9666 +/- 0.0118 | bins=985 | tau=0.88\n",
      "T=0.2 L=16\n",
      "Average R2: 1.9048 +/- 0.0103 | bins=985 | tau=0.83\n",
      "T=0.15 L=16\n",
      "Average R2: 1.8249 +/- 0.0089 | bins=985 | tau=1.14\n",
      "T=0.1 L=16\n",
      "Average R2: 1.6902 +/- 0.0071 | bins=985 | tau=0.80\n",
      "T=0.05 L=16\n",
      "Average R2: 1.4378 +/- 0.0050 | bins=985 | tau=0.96\n",
      "T=0.4 L=24\n",
      "Average R2: 2.0948 +/- 0.0137 | bins=985 | tau=0.95\n",
      "T=0.3 L=24\n",
      "Average R2: 2.0593 +/- 0.0130 | bins=985 | tau=0.97\n",
      "T=0.25 L=24\n",
      "Average R2: 2.0601 +/- 0.0117 | bins=985 | tau=0.97\n",
      "T=0.2 L=24\n",
      "Average R2: 2.0134 +/- 0.0100 | bins=985 | tau=1.45\n",
      "T=0.15 L=24\n",
      "Average R2: 1.9216 +/- 0.0089 | bins=985 | tau=0.76\n",
      "T=0.1 L=24\n",
      "Average R2: 1.8125 +/- 0.0073 | bins=985 | tau=1.03\n",
      "T=0.05 L=24\n",
      "Average R2: 1.5803 +/- 0.0049 | bins=985 | tau=1.10\n",
      "T=0.4 L=32\n",
      "Average R2: 2.1672 +/- 0.0154 | bins=985 | tau=0.90\n",
      "T=0.3 L=32\n",
      "Average R2: 2.1287 +/- 0.0128 | bins=985 | tau=1.00\n",
      "T=0.25 L=32\n",
      "Average R2: 2.1091 +/- 0.0108 | bins=985 | tau=0.97\n",
      "T=0.2 L=32\n",
      "Average R2: 2.0463 +/- 0.0102 | bins=985 | tau=1.01\n",
      "T=0.15 L=32\n",
      "Average R2: 2.0030 +/- 0.0089 | bins=985 | tau=0.80\n",
      "T=0.1 L=32\n",
      "Average R2: 1.9010 +/- 0.0072 | bins=985 | tau=0.87\n",
      "T=0.05 L=32\n",
      "Average R2: 1.6911 +/- 0.0052 | bins=985 | tau=1.17\n",
      "T=0.4 L=48\n",
      "Average R2: 2.2013 +/- 0.0149 | bins=985 | tau=1.17\n",
      "T=0.3 L=48\n",
      "Average R2: 2.1467 +/- 0.0128 | bins=985 | tau=0.79\n",
      "T=0.25 L=48\n",
      "Average R2: 2.1567 +/- 0.0114 | bins=985 | tau=1.00\n",
      "T=0.2 L=48\n",
      "Average R2: 2.1057 +/- 0.0097 | bins=985 | tau=0.67\n",
      "T=0.15 L=48\n",
      "Average R2: 2.0660 +/- 0.0093 | bins=985 | tau=0.95\n",
      "T=0.1 L=48\n",
      "Average R2: 1.9979 +/- 0.0070 | bins=985 | tau=0.90\n",
      "T=0.05 L=48\n",
      "Average R2: 1.8216 +/- 0.0051 | bins=985 | tau=1.15\n",
      "T=0.4 L=64\n",
      "Average R2: 2.2052 +/- 0.0138 | bins=985 | tau=0.98\n",
      "T=0.3 L=64\n",
      "Average R2: 2.1966 +/- 0.0126 | bins=985 | tau=0.86\n",
      "T=0.25 L=64\n",
      "Average R2: 2.1651 +/- 0.0111 | bins=985 | tau=0.99\n",
      "T=0.2 L=64\n",
      "Average R2: 2.1512 +/- 0.0102 | bins=985 | tau=0.99\n",
      "T=0.15 L=64\n",
      "Average R2: 2.1149 +/- 0.0083 | bins=985 | tau=0.79\n",
      "T=0.1 L=64\n",
      "Average R2: 2.0683 +/- 0.0071 | bins=985 | tau=0.91\n",
      "T=0.05 L=64\n",
      "Average R2: 1.8989 +/- 0.0051 | bins=985 | tau=1.10\n",
      "T=0.4 L=96\n",
      "Average R2: 2.2458 +/- 0.0150 | bins=985 | tau=1.08\n",
      "T=0.3 L=96\n",
      "Average R2: 2.2393 +/- 0.0122 | bins=985 | tau=1.21\n",
      "T=0.25 L=96\n",
      "Average R2: 2.1978 +/- 0.0125 | bins=755 | tau=1.51\n",
      "T=0.2 L=96\n",
      "Average R2: 2.2052 +/- 0.0104 | bins=975 | tau=0.83\n",
      "T=0.15 L=96\n",
      "Average R2: 2.1570 +/- 0.0088 | bins=975 | tau=0.96\n",
      "T=0.1 L=96\n",
      "Average R2: 2.1110 +/- 0.0067 | bins=995 | tau=0.97\n",
      "T=0.05 L=96\n",
      "Average R2: 1.9954 +/- 0.0051 | bins=955 | tau=0.87\n",
      "T=0.4 L=128\n",
      "Average R2: 2.2313 +/- 0.0198 | bins=495 | tau=4.38\n",
      "T=0.3 L=128\n",
      "Average R2: 2.2296 +/- 0.0121 | bins=995 | tau=4.78\n",
      "T=0.25 L=128\n",
      "Average R2: 2.2226 +/- 0.0117 | bins=995 | tau=3.35\n",
      "T=0.2 L=128\n",
      "Average R2: 2.2207 +/- 0.0104 | bins=995 | tau=1.34\n",
      "T=0.15 L=128\n",
      "Average R2: 2.1896 +/- 0.0090 | bins=995 | tau=1.75\n",
      "T=0.1 L=128\n",
      "Average R2: 2.1554 +/- 0.0034 | bins=4445 | tau=1.31\n",
      "T=0.05 L=128\n",
      "Average R2: 2.0569 +/- 0.0050 | bins=995 | tau=1.15\n",
      "[Errno 2] No such file or directory: '../improv_runs/bmn2_su3_g05/l192/t04/log' . Skipping...\n",
      "[Errno 2] No such file or directory: '../improv_runs/bmn2_su3_g05/l192/t03/log' . Skipping...\n",
      "[Errno 2] No such file or directory: '../improv_runs/bmn2_su3_g05/l192/t025/log' . Skipping...\n",
      "[Errno 2] No such file or directory: '../improv_runs/bmn2_su3_g05/l192/t02/log' . Skipping...\n",
      "[Errno 2] No such file or directory: '../improv_runs/bmn2_su3_g05/l192/t015/log' . Skipping...\n",
      "[Errno 2] No such file or directory: '../improv_runs/bmn2_su3_g05/l192/t01/log' . Skipping...\n",
      "[Errno 2] No such file or directory: '../improv_runs/bmn2_su3_g05/l192/t005/log' . Skipping...\n"
     ]
    }
   ],
   "metadata": {}
  },
  {
   "cell_type": "markdown",
   "source": [
    "Return $R$ instead of $R^2$ for comparison with the Neural Network result"
   ],
   "metadata": {}
  },
  {
   "cell_type": "code",
   "execution_count": 18,
   "source": [
    "Ts = [\"04\", \"03\", \"025\", \"02\", \"015\", \"01\", \"005\"] #, \"0025\", \"001\"]\n",
    "Ls = [\"16\", \"24\", \"32\", \"48\", \"64\", \"96\", \"128\", \"192\"]\n",
    "cut = 5 # thermalization cut in units of 50 trajectories\n",
    "N = 3\n",
    "G = \"05\"\n",
    "# header\n",
    "print(f\"T,L,R,err,bins,tau\")\n",
    "for L in Ls:\n",
    "    for T in Ts:\n",
    "        filename = f\"../improv_runs/bmn2_su{N}_g{G}/l{L}/t{T}/log\"\n",
    "        try:\n",
    "            data = pd.read_csv(filename, sep=\"\\s+\", names=[\"tj\",\"dH\",\"e\",\"p\",\"x2\",\"f2\",\"ub\",\"acc\"], dtype=np.float)\n",
    "            data.x2 = np.sqrt(data.x2 * float(N))\n",
    "            avg, std = data.iloc[cut:].x2.mean(), data.iloc[cut:].x2.std()\n",
    "            bins = data.iloc[cut:].shape[0]\n",
    "            tau = autocorr.integrated_time(data.iloc[cut:].x2.values)\n",
    "            print(f\"0.{T[1:]},{L},{avg:.4f},{std/np.sqrt(bins):.4f},{bins},{tau[0]:.2f}\")\n",
    "        except (ValueError, FileNotFoundError) as e:\n",
    "            pass"
   ],
   "outputs": [
    {
     "output_type": "stream",
     "name": "stdout",
     "text": [
      "T,L,R,err,bins,tau\n",
      "0.4,16,1.4318,0.0054,985,0.80\n",
      "0.3,16,1.4061,0.0043,985,1.03\n",
      "0.25,16,1.3962,0.0042,985,0.87\n",
      "0.2,16,1.3752,0.0037,985,0.83\n",
      "0.15,16,1.3469,0.0033,985,1.13\n",
      "0.1,16,1.2972,0.0027,985,0.81\n",
      "0.05,16,1.1973,0.0021,985,0.96\n",
      "0.4,24,1.4399,0.0047,985,0.95\n",
      "0.3,24,1.4281,0.0045,985,0.98\n",
      "0.25,24,1.4297,0.0041,985,0.96\n",
      "0.2,24,1.4146,0.0035,985,1.44\n",
      "0.15,24,1.3826,0.0032,985,0.76\n",
      "0.1,24,1.3436,0.0027,985,1.03\n",
      "0.05,24,1.2556,0.0019,985,1.11\n",
      "0.4,32,1.4634,0.0051,985,0.89\n",
      "0.3,32,1.4526,0.0043,985,0.99\n",
      "0.25,32,1.4477,0.0037,985,0.95\n",
      "0.2,32,1.4261,0.0036,985,1.00\n",
      "0.15,32,1.4118,0.0031,985,0.79\n",
      "0.1,32,1.3763,0.0026,985,0.88\n",
      "0.05,32,1.2989,0.0020,985,1.17\n",
      "0.4,48,1.4755,0.0050,985,1.14\n",
      "0.3,48,1.4589,0.0043,985,0.78\n",
      "0.25,48,1.4636,0.0038,985,1.00\n",
      "0.2,48,1.4473,0.0033,985,0.67\n",
      "0.15,48,1.4339,0.0032,985,0.95\n",
      "0.1,48,1.4114,0.0025,985,0.90\n",
      "0.05,48,1.3484,0.0019,985,1.16\n",
      "0.4,64,1.4779,0.0046,985,1.00\n",
      "0.3,64,1.4762,0.0042,985,0.88\n",
      "0.25,64,1.4667,0.0038,985,1.00\n",
      "0.2,64,1.4626,0.0035,985,0.99\n",
      "0.15,64,1.4515,0.0029,985,0.78\n",
      "0.1,64,1.4361,0.0025,985,0.91\n",
      "0.05,64,1.3768,0.0019,985,1.09\n",
      "0.4,96,1.4906,0.0049,985,1.08\n",
      "0.3,96,1.4909,0.0041,985,1.22\n",
      "0.25,96,1.4781,0.0042,755,1.53\n",
      "0.2,96,1.4810,0.0035,975,0.83\n",
      "0.15,96,1.4657,0.0030,975,0.95\n",
      "0.1,96,1.4511,0.0023,995,0.97\n",
      "0.05,96,1.4115,0.0018,955,0.87\n",
      "0.4,128,1.4864,0.0067,495,4.34\n",
      "0.3,128,1.4878,0.0040,995,4.69\n",
      "0.25,128,1.4858,0.0039,995,3.33\n",
      "0.2,128,1.4862,0.0035,995,1.34\n",
      "0.15,128,1.4767,0.0030,995,1.76\n",
      "0.1,128,1.4662,0.0011,4445,1.31\n",
      "0.05,128,1.4332,0.0017,995,1.15\n"
     ]
    }
   ],
   "metadata": {}
  },
  {
   "cell_type": "markdown",
   "source": [
    "# Temperature dependence"
   ],
   "metadata": {}
  },
  {
   "cell_type": "code",
   "execution_count": 26,
   "source": [
    "eq = \"../improv_runs/bmn2_su2_g10/e0_quadratic.csv\"\n",
    "df_eq = pd.read_csv(eq)\n",
    "df_eq"
   ],
   "outputs": [
    {
     "output_type": "execute_result",
     "data": {
      "text/plain": [
       "     T      E    err\n",
       "0  0.1  3.383  0.037\n",
       "1  0.2  3.549  0.054\n",
       "2  0.3  3.562  0.069\n",
       "3  0.4  3.602  0.080\n",
       "4  0.5  3.519  0.090\n",
       "5  0.6  3.647  0.105\n",
       "6  0.7  3.692  0.117\n",
       "7  0.8  4.140  0.130\n",
       "8  0.9  3.975  0.143\n",
       "9  1.0  4.358  0.156"
      ],
      "text/html": [
       "<div>\n",
       "<style scoped>\n",
       "    .dataframe tbody tr th:only-of-type {\n",
       "        vertical-align: middle;\n",
       "    }\n",
       "\n",
       "    .dataframe tbody tr th {\n",
       "        vertical-align: top;\n",
       "    }\n",
       "\n",
       "    .dataframe thead th {\n",
       "        text-align: right;\n",
       "    }\n",
       "</style>\n",
       "<table border=\"1\" class=\"dataframe\">\n",
       "  <thead>\n",
       "    <tr style=\"text-align: right;\">\n",
       "      <th></th>\n",
       "      <th>T</th>\n",
       "      <th>E</th>\n",
       "      <th>err</th>\n",
       "    </tr>\n",
       "  </thead>\n",
       "  <tbody>\n",
       "    <tr>\n",
       "      <th>0</th>\n",
       "      <td>0.1</td>\n",
       "      <td>3.383</td>\n",
       "      <td>0.037</td>\n",
       "    </tr>\n",
       "    <tr>\n",
       "      <th>1</th>\n",
       "      <td>0.2</td>\n",
       "      <td>3.549</td>\n",
       "      <td>0.054</td>\n",
       "    </tr>\n",
       "    <tr>\n",
       "      <th>2</th>\n",
       "      <td>0.3</td>\n",
       "      <td>3.562</td>\n",
       "      <td>0.069</td>\n",
       "    </tr>\n",
       "    <tr>\n",
       "      <th>3</th>\n",
       "      <td>0.4</td>\n",
       "      <td>3.602</td>\n",
       "      <td>0.080</td>\n",
       "    </tr>\n",
       "    <tr>\n",
       "      <th>4</th>\n",
       "      <td>0.5</td>\n",
       "      <td>3.519</td>\n",
       "      <td>0.090</td>\n",
       "    </tr>\n",
       "    <tr>\n",
       "      <th>5</th>\n",
       "      <td>0.6</td>\n",
       "      <td>3.647</td>\n",
       "      <td>0.105</td>\n",
       "    </tr>\n",
       "    <tr>\n",
       "      <th>6</th>\n",
       "      <td>0.7</td>\n",
       "      <td>3.692</td>\n",
       "      <td>0.117</td>\n",
       "    </tr>\n",
       "    <tr>\n",
       "      <th>7</th>\n",
       "      <td>0.8</td>\n",
       "      <td>4.140</td>\n",
       "      <td>0.130</td>\n",
       "    </tr>\n",
       "    <tr>\n",
       "      <th>8</th>\n",
       "      <td>0.9</td>\n",
       "      <td>3.975</td>\n",
       "      <td>0.143</td>\n",
       "    </tr>\n",
       "    <tr>\n",
       "      <th>9</th>\n",
       "      <td>1.0</td>\n",
       "      <td>4.358</td>\n",
       "      <td>0.156</td>\n",
       "    </tr>\n",
       "  </tbody>\n",
       "</table>\n",
       "</div>"
      ]
     },
     "metadata": {},
     "execution_count": 26
    }
   ],
   "metadata": {}
  },
  {
   "cell_type": "code",
   "execution_count": 27,
   "source": [
    "df_eq.plot(x=\"T\", y=\"E\", yerr=\"err\")"
   ],
   "outputs": [
    {
     "output_type": "execute_result",
     "data": {
      "text/plain": [
       "<AxesSubplot:xlabel='T'>"
      ]
     },
     "metadata": {},
     "execution_count": 27
    },
    {
     "output_type": "display_data",
     "data": {
      "text/plain": [
       "<Figure size 432x288 with 1 Axes>"
      ],
      "image/png": "[encoded data removed]",
      "image/svg+xml": "<?xml version=\"1.0\" encoding=\"utf-8\" standalone=\"no\"?>\n<!DOCTYPE svg PUBLIC \"-//W3C//DTD SVG 1.1//EN\"\n  \"http://www.w3.org/Graphics/SVG/1.1/DTD/svg11.dtd\">\n<!-- Created with matplotlib (https://matplotlib.org/) -->\n<svg height=\"262.19625pt\" version=\"1.1\" viewBox=\"0 0 372.103125 262.19625\" width=\"372.103125pt\" xmlns=\"http://www.w3.org/2000/svg\" xmlns:xlink=\"http://www.w3.org/1999/xlink\">\n <metadata>\n  <rdf:RDF xmlns:cc=\"http://creativecommons.org/ns#\" xmlns:dc=\"http://purl.org/dc/elements/1.1/\" xmlns:rdf=\"http://www.w3.org/1999/02/22-rdf-syntax-ns#\">\n   <cc:Work>\n    <dc:type rdf:resource=\"http://purl.org/dc/dcmitype/StillImage\"/>\n    <dc:date>2021-02-25T12:09:40.154732</dc:date>\n    <dc:format>image/svg+xml</dc:format>\n    <dc:creator>\n     <cc:Agent>\n      <dc:title>Matplotlib v3.3.2, https://matplotlib.org/</dc:title>\n     </cc:Agent>\n    </dc:creator>\n   </cc:Work>\n  </rdf:RDF>\n </metadata>\n <defs>\n  <style type=\"text/css\">*{stroke-linecap:butt;stroke-linejoin:round;}</style>\n </defs>\n <g id=\"figure_1\">\n  <g id=\"patch_1\">\n   <path d=\"M 0 262.19625 \nL 372.103125 262.19625 \nL 372.103125 0 \nL 0 0 \nz\n\" style=\"fill:none;\"/>\n  </g>\n  <g id=\"axes_1\">\n   <g id=\"patch_2\">\n    <path d=\"M 30.103125 224.64 \nL 364.903125 224.64 \nL 364.903125 7.2 \nL 30.103125 7.2 \nz\n\" style=\"fill:#ffffff;\"/>\n   </g>\n   <g id=\"matplotlib.axis_1\">\n    <g id=\"xtick_1\">\n     <g id=\"line2d_1\">\n      <defs>\n       <path d=\"M 0 0 \nL 0 3.5 \n\" id=\"m6b91defdc4\" style=\"stroke:#000000;stroke-width:0.8;\"/>\n      </defs>\n      <g>\n       <use style=\"stroke:#000000;stroke-width:0.8;\" x=\"79.139489\" xlink:href=\"#m6b91defdc4\" y=\"224.64\"/>\n      </g>\n     </g>\n     <g id=\"text_1\">\n      <!-- 0.2 -->\n      <g transform=\"translate(71.187926 239.238437)scale(0.1 -0.1)\">\n       <defs>\n        <path d=\"M 31.78125 66.40625 \nQ 24.171875 66.40625 20.328125 58.90625 \nQ 16.5 51.421875 16.5 36.375 \nQ 16.5 21.390625 20.328125 13.890625 \nQ 24.171875 6.390625 31.78125 6.390625 \nQ 39.453125 6.390625 43.28125 13.890625 \nQ 47.125 21.390625 47.125 36.375 \nQ 47.125 51.421875 43.28125 58.90625 \nQ 39.453125 66.40625 31.78125 66.40625 \nz\nM 31.78125 74.21875 \nQ 44.046875 74.21875 50.515625 64.515625 \nQ 56.984375 54.828125 56.984375 36.375 \nQ 56.984375 17.96875 50.515625 8.265625 \nQ 44.046875 -1.421875 31.78125 -1.421875 \nQ 19.53125 -1.421875 13.0625 8.265625 \nQ 6.59375 17.96875 6.59375 36.375 \nQ 6.59375 54.828125 13.0625 64.515625 \nQ 19.53125 74.21875 31.78125 74.21875 \nz\n\" id=\"DejaVuSans-48\"/>\n        <path d=\"M 10.6875 12.40625 \nL 21 12.40625 \nL 21 0 \nL 10.6875 0 \nz\n\" id=\"DejaVuSans-46\"/>\n        <path d=\"M 19.1875 8.296875 \nL 53.609375 8.296875 \nL 53.609375 0 \nL 7.328125 0 \nL 7.328125 8.296875 \nQ 12.9375 14.109375 22.625 23.890625 \nQ 32.328125 33.6875 34.8125 36.53125 \nQ 39.546875 41.84375 41.421875 45.53125 \nQ 43.3125 49.21875 43.3125 52.78125 \nQ 43.3125 58.59375 39.234375 62.25 \nQ 35.15625 65.921875 28.609375 65.921875 \nQ 23.96875 65.921875 18.8125 64.3125 \nQ 13.671875 62.703125 7.8125 59.421875 \nL 7.8125 69.390625 \nQ 13.765625 71.78125 18.9375 73 \nQ 24.125 74.21875 28.421875 74.21875 \nQ 39.75 74.21875 46.484375 68.546875 \nQ 53.21875 62.890625 53.21875 53.421875 \nQ 53.21875 48.921875 51.53125 44.890625 \nQ 49.859375 40.875 45.40625 35.40625 \nQ 44.1875 33.984375 37.640625 27.21875 \nQ 31.109375 20.453125 19.1875 8.296875 \nz\n\" id=\"DejaVuSans-50\"/>\n       </defs>\n       <use xlink:href=\"#DejaVuSans-48\"/>\n       <use x=\"63.623047\" xlink:href=\"#DejaVuSans-46\"/>\n       <use x=\"95.410156\" xlink:href=\"#DejaVuSans-50\"/>\n      </g>\n     </g>\n    </g>\n    <g id=\"xtick_2\">\n     <g id=\"line2d_2\">\n      <g>\n       <use style=\"stroke:#000000;stroke-width:0.8;\" x=\"146.775852\" xlink:href=\"#m6b91defdc4\" y=\"224.64\"/>\n      </g>\n     </g>\n     <g id=\"text_2\">\n      <!-- 0.4 -->\n      <g transform=\"translate(138.82429 239.238437)scale(0.1 -0.1)\">\n       <defs>\n        <path d=\"M 37.796875 64.3125 \nL 12.890625 25.390625 \nL 37.796875 25.390625 \nz\nM 35.203125 72.90625 \nL 47.609375 72.90625 \nL 47.609375 25.390625 \nL 58.015625 25.390625 \nL 58.015625 17.1875 \nL 47.609375 17.1875 \nL 47.609375 0 \nL 37.796875 0 \nL 37.796875 17.1875 \nL 4.890625 17.1875 \nL 4.890625 26.703125 \nz\n\" id=\"DejaVuSans-52\"/>\n       </defs>\n       <use xlink:href=\"#DejaVuSans-48\"/>\n       <use x=\"63.623047\" xlink:href=\"#DejaVuSans-46\"/>\n       <use x=\"95.410156\" xlink:href=\"#DejaVuSans-52\"/>\n      </g>\n     </g>\n    </g>\n    <g id=\"xtick_3\">\n     <g id=\"line2d_3\">\n      <g>\n       <use style=\"stroke:#000000;stroke-width:0.8;\" x=\"214.412216\" xlink:href=\"#m6b91defdc4\" y=\"224.64\"/>\n      </g>\n     </g>\n     <g id=\"text_3\">\n      <!-- 0.6 -->\n      <g transform=\"translate(206.460653 239.238437)scale(0.1 -0.1)\">\n       <defs>\n        <path d=\"M 33.015625 40.375 \nQ 26.375 40.375 22.484375 35.828125 \nQ 18.609375 31.296875 18.609375 23.390625 \nQ 18.609375 15.53125 22.484375 10.953125 \nQ 26.375 6.390625 33.015625 6.390625 \nQ 39.65625 6.390625 43.53125 10.953125 \nQ 47.40625 15.53125 47.40625 23.390625 \nQ 47.40625 31.296875 43.53125 35.828125 \nQ 39.65625 40.375 33.015625 40.375 \nz\nM 52.59375 71.296875 \nL 52.59375 62.3125 \nQ 48.875 64.0625 45.09375 64.984375 \nQ 41.3125 65.921875 37.59375 65.921875 \nQ 27.828125 65.921875 22.671875 59.328125 \nQ 17.53125 52.734375 16.796875 39.40625 \nQ 19.671875 43.65625 24.015625 45.921875 \nQ 28.375 48.1875 33.59375 48.1875 \nQ 44.578125 48.1875 50.953125 41.515625 \nQ 57.328125 34.859375 57.328125 23.390625 \nQ 57.328125 12.15625 50.6875 5.359375 \nQ 44.046875 -1.421875 33.015625 -1.421875 \nQ 20.359375 -1.421875 13.671875 8.265625 \nQ 6.984375 17.96875 6.984375 36.375 \nQ 6.984375 53.65625 15.1875 63.9375 \nQ 23.390625 74.21875 37.203125 74.21875 \nQ 40.921875 74.21875 44.703125 73.484375 \nQ 48.484375 72.75 52.59375 71.296875 \nz\n\" id=\"DejaVuSans-54\"/>\n       </defs>\n       <use xlink:href=\"#DejaVuSans-48\"/>\n       <use x=\"63.623047\" xlink:href=\"#DejaVuSans-46\"/>\n       <use x=\"95.410156\" xlink:href=\"#DejaVuSans-54\"/>\n      </g>\n     </g>\n    </g>\n    <g id=\"xtick_4\">\n     <g id=\"line2d_4\">\n      <g>\n       <use style=\"stroke:#000000;stroke-width:0.8;\" x=\"282.04858\" xlink:href=\"#m6b91defdc4\" y=\"224.64\"/>\n      </g>\n     </g>\n     <g id=\"text_4\">\n      <!-- 0.8 -->\n      <g transform=\"translate(274.097017 239.238437)scale(0.1 -0.1)\">\n       <defs>\n        <path d=\"M 31.78125 34.625 \nQ 24.75 34.625 20.71875 30.859375 \nQ 16.703125 27.09375 16.703125 20.515625 \nQ 16.703125 13.921875 20.71875 10.15625 \nQ 24.75 6.390625 31.78125 6.390625 \nQ 38.8125 6.390625 42.859375 10.171875 \nQ 46.921875 13.96875 46.921875 20.515625 \nQ 46.921875 27.09375 42.890625 30.859375 \nQ 38.875 34.625 31.78125 34.625 \nz\nM 21.921875 38.8125 \nQ 15.578125 40.375 12.03125 44.71875 \nQ 8.5 49.078125 8.5 55.328125 \nQ 8.5 64.0625 14.71875 69.140625 \nQ 20.953125 74.21875 31.78125 74.21875 \nQ 42.671875 74.21875 48.875 69.140625 \nQ 55.078125 64.0625 55.078125 55.328125 \nQ 55.078125 49.078125 51.53125 44.71875 \nQ 48 40.375 41.703125 38.8125 \nQ 48.828125 37.15625 52.796875 32.3125 \nQ 56.78125 27.484375 56.78125 20.515625 \nQ 56.78125 9.90625 50.3125 4.234375 \nQ 43.84375 -1.421875 31.78125 -1.421875 \nQ 19.734375 -1.421875 13.25 4.234375 \nQ 6.78125 9.90625 6.78125 20.515625 \nQ 6.78125 27.484375 10.78125 32.3125 \nQ 14.796875 37.15625 21.921875 38.8125 \nz\nM 18.3125 54.390625 \nQ 18.3125 48.734375 21.84375 45.5625 \nQ 25.390625 42.390625 31.78125 42.390625 \nQ 38.140625 42.390625 41.71875 45.5625 \nQ 45.3125 48.734375 45.3125 54.390625 \nQ 45.3125 60.0625 41.71875 63.234375 \nQ 38.140625 66.40625 31.78125 66.40625 \nQ 25.390625 66.40625 21.84375 63.234375 \nQ 18.3125 60.0625 18.3125 54.390625 \nz\n\" id=\"DejaVuSans-56\"/>\n       </defs>\n       <use xlink:href=\"#DejaVuSans-48\"/>\n       <use x=\"63.623047\" xlink:href=\"#DejaVuSans-46\"/>\n       <use x=\"95.410156\" xlink:href=\"#DejaVuSans-56\"/>\n      </g>\n     </g>\n    </g>\n    <g id=\"xtick_5\">\n     <g id=\"line2d_5\">\n      <g>\n       <use style=\"stroke:#000000;stroke-width:0.8;\" x=\"349.684943\" xlink:href=\"#m6b91defdc4\" y=\"224.64\"/>\n      </g>\n     </g>\n     <g id=\"text_5\">\n      <!-- 1.0 -->\n      <g transform=\"translate(341.733381 239.238437)scale(0.1 -0.1)\">\n       <defs>\n        <path d=\"M 12.40625 8.296875 \nL 28.515625 8.296875 \nL 28.515625 63.921875 \nL 10.984375 60.40625 \nL 10.984375 69.390625 \nL 28.421875 72.90625 \nL 38.28125 72.90625 \nL 38.28125 8.296875 \nL 54.390625 8.296875 \nL 54.390625 0 \nL 12.40625 0 \nz\n\" id=\"DejaVuSans-49\"/>\n       </defs>\n       <use xlink:href=\"#DejaVuSans-49\"/>\n       <use x=\"63.623047\" xlink:href=\"#DejaVuSans-46\"/>\n       <use x=\"95.410156\" xlink:href=\"#DejaVuSans-48\"/>\n      </g>\n     </g>\n    </g>\n    <g id=\"text_6\">\n     <!-- T -->\n     <g transform=\"translate(194.449219 252.916562)scale(0.1 -0.1)\">\n      <defs>\n       <path d=\"M -0.296875 72.90625 \nL 61.375 72.90625 \nL 61.375 64.59375 \nL 35.5 64.59375 \nL 35.5 0 \nL 25.59375 0 \nL 25.59375 64.59375 \nL -0.296875 64.59375 \nz\n\" id=\"DejaVuSans-84\"/>\n      </defs>\n      <use xlink:href=\"#DejaVuSans-84\"/>\n     </g>\n    </g>\n   </g>\n   <g id=\"matplotlib.axis_2\">\n    <g id=\"ytick_1\">\n     <g id=\"line2d_6\">\n      <defs>\n       <path d=\"M 0 0 \nL -3.5 0 \n\" id=\"m6da95d0760\" style=\"stroke:#000000;stroke-width:0.8;\"/>\n      </defs>\n      <g>\n       <use style=\"stroke:#000000;stroke-width:0.8;\" x=\"30.103125\" xlink:href=\"#m6da95d0760\" y=\"205.617385\"/>\n      </g>\n     </g>\n     <g id=\"text_7\">\n      <!-- 3.4 -->\n      <g transform=\"translate(7.2 209.416604)scale(0.1 -0.1)\">\n       <defs>\n        <path d=\"M 40.578125 39.3125 \nQ 47.65625 37.796875 51.625 33 \nQ 55.609375 28.21875 55.609375 21.1875 \nQ 55.609375 10.40625 48.1875 4.484375 \nQ 40.765625 -1.421875 27.09375 -1.421875 \nQ 22.515625 -1.421875 17.65625 -0.515625 \nQ 12.796875 0.390625 7.625 2.203125 \nL 7.625 11.71875 \nQ 11.71875 9.328125 16.59375 8.109375 \nQ 21.484375 6.890625 26.8125 6.890625 \nQ 36.078125 6.890625 40.9375 10.546875 \nQ 45.796875 14.203125 45.796875 21.1875 \nQ 45.796875 27.640625 41.28125 31.265625 \nQ 36.765625 34.90625 28.71875 34.90625 \nL 20.21875 34.90625 \nL 20.21875 43.015625 \nL 29.109375 43.015625 \nQ 36.375 43.015625 40.234375 45.921875 \nQ 44.09375 48.828125 44.09375 54.296875 \nQ 44.09375 59.90625 40.109375 62.90625 \nQ 36.140625 65.921875 28.71875 65.921875 \nQ 24.65625 65.921875 20.015625 65.03125 \nQ 15.375 64.15625 9.8125 62.3125 \nL 9.8125 71.09375 \nQ 15.4375 72.65625 20.34375 73.4375 \nQ 25.25 74.21875 29.59375 74.21875 \nQ 40.828125 74.21875 47.359375 69.109375 \nQ 53.90625 64.015625 53.90625 55.328125 \nQ 53.90625 49.265625 50.4375 45.09375 \nQ 46.96875 40.921875 40.578125 39.3125 \nz\n\" id=\"DejaVuSans-51\"/>\n       </defs>\n       <use xlink:href=\"#DejaVuSans-51\"/>\n       <use x=\"63.623047\" xlink:href=\"#DejaVuSans-46\"/>\n       <use x=\"95.410156\" xlink:href=\"#DejaVuSans-52\"/>\n      </g>\n     </g>\n    </g>\n    <g id=\"ytick_2\">\n     <g id=\"line2d_7\">\n      <g>\n       <use style=\"stroke:#000000;stroke-width:0.8;\" x=\"30.103125\" xlink:href=\"#m6da95d0760\" y=\"171.769315\"/>\n      </g>\n     </g>\n     <g id=\"text_8\">\n      <!-- 3.6 -->\n      <g transform=\"translate(7.2 175.568534)scale(0.1 -0.1)\">\n       <use xlink:href=\"#DejaVuSans-51\"/>\n       <use x=\"63.623047\" xlink:href=\"#DejaVuSans-46\"/>\n       <use x=\"95.410156\" xlink:href=\"#DejaVuSans-54\"/>\n      </g>\n     </g>\n    </g>\n    <g id=\"ytick_3\">\n     <g id=\"line2d_8\">\n      <g>\n       <use style=\"stroke:#000000;stroke-width:0.8;\" x=\"30.103125\" xlink:href=\"#m6da95d0760\" y=\"137.921245\"/>\n      </g>\n     </g>\n     <g id=\"text_9\">\n      <!-- 3.8 -->\n      <g transform=\"translate(7.2 141.720464)scale(0.1 -0.1)\">\n       <use xlink:href=\"#DejaVuSans-51\"/>\n       <use x=\"63.623047\" xlink:href=\"#DejaVuSans-46\"/>\n       <use x=\"95.410156\" xlink:href=\"#DejaVuSans-56\"/>\n      </g>\n     </g>\n    </g>\n    <g id=\"ytick_4\">\n     <g id=\"line2d_9\">\n      <g>\n       <use style=\"stroke:#000000;stroke-width:0.8;\" x=\"30.103125\" xlink:href=\"#m6da95d0760\" y=\"104.073176\"/>\n      </g>\n     </g>\n     <g id=\"text_10\">\n      <!-- 4.0 -->\n      <g transform=\"translate(7.2 107.872394)scale(0.1 -0.1)\">\n       <use xlink:href=\"#DejaVuSans-52\"/>\n       <use x=\"63.623047\" xlink:href=\"#DejaVuSans-46\"/>\n       <use x=\"95.410156\" xlink:href=\"#DejaVuSans-48\"/>\n      </g>\n     </g>\n    </g>\n    <g id=\"ytick_5\">\n     <g id=\"line2d_10\">\n      <g>\n       <use style=\"stroke:#000000;stroke-width:0.8;\" x=\"30.103125\" xlink:href=\"#m6da95d0760\" y=\"70.225106\"/>\n      </g>\n     </g>\n     <g id=\"text_11\">\n      <!-- 4.2 -->\n      <g transform=\"translate(7.2 74.024325)scale(0.1 -0.1)\">\n       <use xlink:href=\"#DejaVuSans-52\"/>\n       <use x=\"63.623047\" xlink:href=\"#DejaVuSans-46\"/>\n       <use x=\"95.410156\" xlink:href=\"#DejaVuSans-50\"/>\n      </g>\n     </g>\n    </g>\n    <g id=\"ytick_6\">\n     <g id=\"line2d_11\">\n      <g>\n       <use style=\"stroke:#000000;stroke-width:0.8;\" x=\"30.103125\" xlink:href=\"#m6da95d0760\" y=\"36.377036\"/>\n      </g>\n     </g>\n     <g id=\"text_12\">\n      <!-- 4.4 -->\n      <g transform=\"translate(7.2 40.176255)scale(0.1 -0.1)\">\n       <use xlink:href=\"#DejaVuSans-52\"/>\n       <use x=\"63.623047\" xlink:href=\"#DejaVuSans-46\"/>\n       <use x=\"95.410156\" xlink:href=\"#DejaVuSans-52\"/>\n      </g>\n     </g>\n    </g>\n   </g>\n   <g id=\"LineCollection_1\">\n    <path clip-path=\"url(#p03361c2467)\" d=\"M 45.321307 214.756364 \nL 45.321307 202.232578 \n\" style=\"fill:none;stroke:#1f77b4;stroke-width:1.5;\"/>\n    <path clip-path=\"url(#p03361c2467)\" d=\"M 79.139489 189.539552 \nL 79.139489 171.261594 \n\" style=\"fill:none;stroke:#1f77b4;stroke-width:1.5;\"/>\n    <path clip-path=\"url(#p03361c2467)\" d=\"M 112.95767 189.878032 \nL 112.95767 166.522864 \n\" style=\"fill:none;stroke:#1f77b4;stroke-width:1.5;\"/>\n    <path clip-path=\"url(#p03361c2467)\" d=\"M 146.775852 184.970062 \nL 146.775852 157.891606 \n\" style=\"fill:none;stroke:#1f77b4;stroke-width:1.5;\"/>\n    <path clip-path=\"url(#p03361c2467)\" d=\"M 180.594034 200.709415 \nL 180.594034 170.246152 \n\" style=\"fill:none;stroke:#1f77b4;stroke-width:1.5;\"/>\n    <path clip-path=\"url(#p03361c2467)\" d=\"M 214.412216 181.585255 \nL 214.412216 146.044782 \n\" style=\"fill:none;stroke:#1f77b4;stroke-width:1.5;\"/>\n    <path clip-path=\"url(#p03361c2467)\" d=\"M 248.230398 176.000324 \nL 248.230398 136.398082 \n\" style=\"fill:none;stroke:#1f77b4;stroke-width:1.5;\"/>\n    <path clip-path=\"url(#p03361c2467)\" d=\"M 282.04858 102.380772 \nL 282.04858 58.378281 \n\" style=\"fill:none;stroke:#1f77b4;stroke-width:1.5;\"/>\n    <path clip-path=\"url(#p03361c2467)\" d=\"M 315.866761 132.505554 \nL 315.866761 84.102814 \n\" style=\"fill:none;stroke:#1f77b4;stroke-width:1.5;\"/>\n    <path clip-path=\"url(#p03361c2467)\" d=\"M 349.684943 69.886625 \nL 349.684943 17.083636 \n\" style=\"fill:none;stroke:#1f77b4;stroke-width:1.5;\"/>\n   </g>\n   <g id=\"line2d_12\">\n    <path clip-path=\"url(#p03361c2467)\" d=\"M 45.321307 208.494471 \nL 79.139489 180.400573 \nL 112.95767 178.200448 \nL 146.775852 171.430834 \nL 180.594034 185.477783 \nL 214.412216 163.815019 \nL 248.230398 156.199203 \nL 282.04858 80.379527 \nL 315.866761 108.304184 \nL 349.684943 43.485131 \n\" style=\"fill:none;stroke:#1f77b4;stroke-linecap:square;stroke-width:1.5;\"/>\n   </g>\n   <g id=\"patch_3\">\n    <path d=\"M 30.103125 224.64 \nL 30.103125 7.2 \n\" style=\"fill:none;stroke:#000000;stroke-linecap:square;stroke-linejoin:miter;stroke-width:0.8;\"/>\n   </g>\n   <g id=\"patch_4\">\n    <path d=\"M 364.903125 224.64 \nL 364.903125 7.2 \n\" style=\"fill:none;stroke:#000000;stroke-linecap:square;stroke-linejoin:miter;stroke-width:0.8;\"/>\n   </g>\n   <g id=\"patch_5\">\n    <path d=\"M 30.103125 224.64 \nL 364.903125 224.64 \n\" style=\"fill:none;stroke:#000000;stroke-linecap:square;stroke-linejoin:miter;stroke-width:0.8;\"/>\n   </g>\n   <g id=\"patch_6\">\n    <path d=\"M 30.103125 7.2 \nL 364.903125 7.2 \n\" style=\"fill:none;stroke:#000000;stroke-linecap:square;stroke-linejoin:miter;stroke-width:0.8;\"/>\n   </g>\n   <g id=\"legend_1\">\n    <g id=\"patch_7\">\n     <path d=\"M 319.584375 29.878125 \nL 357.903125 29.878125 \nQ 359.903125 29.878125 359.903125 27.878125 \nL 359.903125 14.2 \nQ 359.903125 12.2 357.903125 12.2 \nL 319.584375 12.2 \nQ 317.584375 12.2 317.584375 14.2 \nL 317.584375 27.878125 \nQ 317.584375 29.878125 319.584375 29.878125 \nz\n\" style=\"fill:#ffffff;opacity:0.8;stroke:#cccccc;stroke-linejoin:miter;\"/>\n    </g>\n    <g id=\"line2d_13\">\n     <path d=\"M 321.584375 20.298437 \nL 341.584375 20.298437 \n\" style=\"fill:none;stroke:#1f77b4;stroke-linecap:square;stroke-width:1.5;\"/>\n    </g>\n    <g id=\"line2d_14\"/>\n    <g id=\"text_13\">\n     <!-- E -->\n     <g transform=\"translate(349.584375 23.798437)scale(0.1 -0.1)\">\n      <defs>\n       <path d=\"M 9.8125 72.90625 \nL 55.90625 72.90625 \nL 55.90625 64.59375 \nL 19.671875 64.59375 \nL 19.671875 43.015625 \nL 54.390625 43.015625 \nL 54.390625 34.71875 \nL 19.671875 34.71875 \nL 19.671875 8.296875 \nL 56.78125 8.296875 \nL 56.78125 0 \nL 9.8125 0 \nz\n\" id=\"DejaVuSans-69\"/>\n      </defs>\n      <use xlink:href=\"#DejaVuSans-69\"/>\n     </g>\n    </g>\n   </g>\n  </g>\n </g>\n <defs>\n  <clipPath id=\"p03361c2467\">\n   <rect height=\"217.44\" width=\"334.8\" x=\"30.103125\" y=\"7.2\"/>\n  </clipPath>\n </defs>\n</svg>\n"
     },
     "metadata": {
      "needs_background": "light"
     }
    }
   ],
   "metadata": {}
  },
  {
   "cell_type": "code",
   "execution_count": 30,
   "source": [
    "el = \"../improv_runs/bmn2_su2_g10/e0_linear_no16.csv\"\n",
    "df_el = pd.read_csv(el)\n",
    "df_el"
   ],
   "outputs": [
    {
     "output_type": "execute_result",
     "data": {
      "text/plain": [
       "     T      E    err\n",
       "0  0.1  3.280  0.021\n",
       "1  0.2  3.462  0.030\n",
       "2  0.3  3.487  0.039\n",
       "3  0.4  3.552  0.045\n",
       "4  0.5  3.543  0.050\n",
       "5  0.6  3.631  0.059\n",
       "6  0.7  3.705  0.065\n",
       "7  0.8  4.010  0.072\n",
       "8  0.9  4.025  0.080\n",
       "9  1.0  4.287  0.087"
      ],
      "text/html": [
       "<div>\n",
       "<style scoped>\n",
       "    .dataframe tbody tr th:only-of-type {\n",
       "        vertical-align: middle;\n",
       "    }\n",
       "\n",
       "    .dataframe tbody tr th {\n",
       "        vertical-align: top;\n",
       "    }\n",
       "\n",
       "    .dataframe thead th {\n",
       "        text-align: right;\n",
       "    }\n",
       "</style>\n",
       "<table border=\"1\" class=\"dataframe\">\n",
       "  <thead>\n",
       "    <tr style=\"text-align: right;\">\n",
       "      <th></th>\n",
       "      <th>T</th>\n",
       "      <th>E</th>\n",
       "      <th>err</th>\n",
       "    </tr>\n",
       "  </thead>\n",
       "  <tbody>\n",
       "    <tr>\n",
       "      <th>0</th>\n",
       "      <td>0.1</td>\n",
       "      <td>3.280</td>\n",
       "      <td>0.021</td>\n",
       "    </tr>\n",
       "    <tr>\n",
       "      <th>1</th>\n",
       "      <td>0.2</td>\n",
       "      <td>3.462</td>\n",
       "      <td>0.030</td>\n",
       "    </tr>\n",
       "    <tr>\n",
       "      <th>2</th>\n",
       "      <td>0.3</td>\n",
       "      <td>3.487</td>\n",
       "      <td>0.039</td>\n",
       "    </tr>\n",
       "    <tr>\n",
       "      <th>3</th>\n",
       "      <td>0.4</td>\n",
       "      <td>3.552</td>\n",
       "      <td>0.045</td>\n",
       "    </tr>\n",
       "    <tr>\n",
       "      <th>4</th>\n",
       "      <td>0.5</td>\n",
       "      <td>3.543</td>\n",
       "      <td>0.050</td>\n",
       "    </tr>\n",
       "    <tr>\n",
       "      <th>5</th>\n",
       "      <td>0.6</td>\n",
       "      <td>3.631</td>\n",
       "      <td>0.059</td>\n",
       "    </tr>\n",
       "    <tr>\n",
       "      <th>6</th>\n",
       "      <td>0.7</td>\n",
       "      <td>3.705</td>\n",
       "      <td>0.065</td>\n",
       "    </tr>\n",
       "    <tr>\n",
       "      <th>7</th>\n",
       "      <td>0.8</td>\n",
       "      <td>4.010</td>\n",
       "      <td>0.072</td>\n",
       "    </tr>\n",
       "    <tr>\n",
       "      <th>8</th>\n",
       "      <td>0.9</td>\n",
       "      <td>4.025</td>\n",
       "      <td>0.080</td>\n",
       "    </tr>\n",
       "    <tr>\n",
       "      <th>9</th>\n",
       "      <td>1.0</td>\n",
       "      <td>4.287</td>\n",
       "      <td>0.087</td>\n",
       "    </tr>\n",
       "  </tbody>\n",
       "</table>\n",
       "</div>"
      ]
     },
     "metadata": {},
     "execution_count": 30
    }
   ],
   "metadata": {}
  },
  {
   "cell_type": "code",
   "execution_count": 31,
   "source": [
    "df_el.plot(x=\"T\", y=\"E\", yerr=\"err\")"
   ],
   "outputs": [
    {
     "output_type": "execute_result",
     "data": {
      "text/plain": [
       "<AxesSubplot:xlabel='T'>"
      ]
     },
     "metadata": {},
     "execution_count": 31
    },
    {
     "output_type": "display_data",
     "data": {
      "text/plain": [
       "<Figure size 432x288 with 1 Axes>"
      ],
      "image/png": "[encoded data removed]",
      "image/svg+xml": "<?xml version=\"1.0\" encoding=\"utf-8\" standalone=\"no\"?>\n<!DOCTYPE svg PUBLIC \"-//W3C//DTD SVG 1.1//EN\"\n  \"http://www.w3.org/Graphics/SVG/1.1/DTD/svg11.dtd\">\n<!-- Created with matplotlib (https://matplotlib.org/) -->\n<svg height=\"262.19625pt\" version=\"1.1\" viewBox=\"0 0 372.103125 262.19625\" width=\"372.103125pt\" xmlns=\"http://www.w3.org/2000/svg\" xmlns:xlink=\"http://www.w3.org/1999/xlink\">\n <metadata>\n  <rdf:RDF xmlns:cc=\"http://creativecommons.org/ns#\" xmlns:dc=\"http://purl.org/dc/elements/1.1/\" xmlns:rdf=\"http://www.w3.org/1999/02/22-rdf-syntax-ns#\">\n   <cc:Work>\n    <dc:type rdf:resource=\"http://purl.org/dc/dcmitype/StillImage\"/>\n    <dc:date>2021-02-25T12:16:44.379923</dc:date>\n    <dc:format>image/svg+xml</dc:format>\n    <dc:creator>\n     <cc:Agent>\n      <dc:title>Matplotlib v3.3.2, https://matplotlib.org/</dc:title>\n     </cc:Agent>\n    </dc:creator>\n   </cc:Work>\n  </rdf:RDF>\n </metadata>\n <defs>\n  <style type=\"text/css\">*{stroke-linecap:butt;stroke-linejoin:round;}</style>\n </defs>\n <g id=\"figure_1\">\n  <g id=\"patch_1\">\n   <path d=\"M 0 262.19625 \nL 372.103125 262.19625 \nL 372.103125 0 \nL 0 0 \nz\n\" style=\"fill:none;\"/>\n  </g>\n  <g id=\"axes_1\">\n   <g id=\"patch_2\">\n    <path d=\"M 30.103125 224.64 \nL 364.903125 224.64 \nL 364.903125 7.2 \nL 30.103125 7.2 \nz\n\" style=\"fill:#ffffff;\"/>\n   </g>\n   <g id=\"matplotlib.axis_1\">\n    <g id=\"xtick_1\">\n     <g id=\"line2d_1\">\n      <defs>\n       <path d=\"M 0 0 \nL 0 3.5 \n\" id=\"m0e42a1211f\" style=\"stroke:#000000;stroke-width:0.8;\"/>\n      </defs>\n      <g>\n       <use style=\"stroke:#000000;stroke-width:0.8;\" x=\"79.139489\" xlink:href=\"#m0e42a1211f\" y=\"224.64\"/>\n      </g>\n     </g>\n     <g id=\"text_1\">\n      <!-- 0.2 -->\n      <g transform=\"translate(71.187926 239.238438)scale(0.1 -0.1)\">\n       <defs>\n        <path d=\"M 31.78125 66.40625 \nQ 24.171875 66.40625 20.328125 58.90625 \nQ 16.5 51.421875 16.5 36.375 \nQ 16.5 21.390625 20.328125 13.890625 \nQ 24.171875 6.390625 31.78125 6.390625 \nQ 39.453125 6.390625 43.28125 13.890625 \nQ 47.125 21.390625 47.125 36.375 \nQ 47.125 51.421875 43.28125 58.90625 \nQ 39.453125 66.40625 31.78125 66.40625 \nz\nM 31.78125 74.21875 \nQ 44.046875 74.21875 50.515625 64.515625 \nQ 56.984375 54.828125 56.984375 36.375 \nQ 56.984375 17.96875 50.515625 8.265625 \nQ 44.046875 -1.421875 31.78125 -1.421875 \nQ 19.53125 -1.421875 13.0625 8.265625 \nQ 6.59375 17.96875 6.59375 36.375 \nQ 6.59375 54.828125 13.0625 64.515625 \nQ 19.53125 74.21875 31.78125 74.21875 \nz\n\" id=\"DejaVuSans-48\"/>\n        <path d=\"M 10.6875 12.40625 \nL 21 12.40625 \nL 21 0 \nL 10.6875 0 \nz\n\" id=\"DejaVuSans-46\"/>\n        <path d=\"M 19.1875 8.296875 \nL 53.609375 8.296875 \nL 53.609375 0 \nL 7.328125 0 \nL 7.328125 8.296875 \nQ 12.9375 14.109375 22.625 23.890625 \nQ 32.328125 33.6875 34.8125 36.53125 \nQ 39.546875 41.84375 41.421875 45.53125 \nQ 43.3125 49.21875 43.3125 52.78125 \nQ 43.3125 58.59375 39.234375 62.25 \nQ 35.15625 65.921875 28.609375 65.921875 \nQ 23.96875 65.921875 18.8125 64.3125 \nQ 13.671875 62.703125 7.8125 59.421875 \nL 7.8125 69.390625 \nQ 13.765625 71.78125 18.9375 73 \nQ 24.125 74.21875 28.421875 74.21875 \nQ 39.75 74.21875 46.484375 68.546875 \nQ 53.21875 62.890625 53.21875 53.421875 \nQ 53.21875 48.921875 51.53125 44.890625 \nQ 49.859375 40.875 45.40625 35.40625 \nQ 44.1875 33.984375 37.640625 27.21875 \nQ 31.109375 20.453125 19.1875 8.296875 \nz\n\" id=\"DejaVuSans-50\"/>\n       </defs>\n       <use xlink:href=\"#DejaVuSans-48\"/>\n       <use x=\"63.623047\" xlink:href=\"#DejaVuSans-46\"/>\n       <use x=\"95.410156\" xlink:href=\"#DejaVuSans-50\"/>\n      </g>\n     </g>\n    </g>\n    <g id=\"xtick_2\">\n     <g id=\"line2d_2\">\n      <g>\n       <use style=\"stroke:#000000;stroke-width:0.8;\" x=\"146.775852\" xlink:href=\"#m0e42a1211f\" y=\"224.64\"/>\n      </g>\n     </g>\n     <g id=\"text_2\">\n      <!-- 0.4 -->\n      <g transform=\"translate(138.82429 239.238438)scale(0.1 -0.1)\">\n       <defs>\n        <path d=\"M 37.796875 64.3125 \nL 12.890625 25.390625 \nL 37.796875 25.390625 \nz\nM 35.203125 72.90625 \nL 47.609375 72.90625 \nL 47.609375 25.390625 \nL 58.015625 25.390625 \nL 58.015625 17.1875 \nL 47.609375 17.1875 \nL 47.609375 0 \nL 37.796875 0 \nL 37.796875 17.1875 \nL 4.890625 17.1875 \nL 4.890625 26.703125 \nz\n\" id=\"DejaVuSans-52\"/>\n       </defs>\n       <use xlink:href=\"#DejaVuSans-48\"/>\n       <use x=\"63.623047\" xlink:href=\"#DejaVuSans-46\"/>\n       <use x=\"95.410156\" xlink:href=\"#DejaVuSans-52\"/>\n      </g>\n     </g>\n    </g>\n    <g id=\"xtick_3\">\n     <g id=\"line2d_3\">\n      <g>\n       <use style=\"stroke:#000000;stroke-width:0.8;\" x=\"214.412216\" xlink:href=\"#m0e42a1211f\" y=\"224.64\"/>\n      </g>\n     </g>\n     <g id=\"text_3\">\n      <!-- 0.6 -->\n      <g transform=\"translate(206.460653 239.238438)scale(0.1 -0.1)\">\n       <defs>\n        <path d=\"M 33.015625 40.375 \nQ 26.375 40.375 22.484375 35.828125 \nQ 18.609375 31.296875 18.609375 23.390625 \nQ 18.609375 15.53125 22.484375 10.953125 \nQ 26.375 6.390625 33.015625 6.390625 \nQ 39.65625 6.390625 43.53125 10.953125 \nQ 47.40625 15.53125 47.40625 23.390625 \nQ 47.40625 31.296875 43.53125 35.828125 \nQ 39.65625 40.375 33.015625 40.375 \nz\nM 52.59375 71.296875 \nL 52.59375 62.3125 \nQ 48.875 64.0625 45.09375 64.984375 \nQ 41.3125 65.921875 37.59375 65.921875 \nQ 27.828125 65.921875 22.671875 59.328125 \nQ 17.53125 52.734375 16.796875 39.40625 \nQ 19.671875 43.65625 24.015625 45.921875 \nQ 28.375 48.1875 33.59375 48.1875 \nQ 44.578125 48.1875 50.953125 41.515625 \nQ 57.328125 34.859375 57.328125 23.390625 \nQ 57.328125 12.15625 50.6875 5.359375 \nQ 44.046875 -1.421875 33.015625 -1.421875 \nQ 20.359375 -1.421875 13.671875 8.265625 \nQ 6.984375 17.96875 6.984375 36.375 \nQ 6.984375 53.65625 15.1875 63.9375 \nQ 23.390625 74.21875 37.203125 74.21875 \nQ 40.921875 74.21875 44.703125 73.484375 \nQ 48.484375 72.75 52.59375 71.296875 \nz\n\" id=\"DejaVuSans-54\"/>\n       </defs>\n       <use xlink:href=\"#DejaVuSans-48\"/>\n       <use x=\"63.623047\" xlink:href=\"#DejaVuSans-46\"/>\n       <use x=\"95.410156\" xlink:href=\"#DejaVuSans-54\"/>\n      </g>\n     </g>\n    </g>\n    <g id=\"xtick_4\">\n     <g id=\"line2d_4\">\n      <g>\n       <use style=\"stroke:#000000;stroke-width:0.8;\" x=\"282.04858\" xlink:href=\"#m0e42a1211f\" y=\"224.64\"/>\n      </g>\n     </g>\n     <g id=\"text_4\">\n      <!-- 0.8 -->\n      <g transform=\"translate(274.097017 239.238438)scale(0.1 -0.1)\">\n       <defs>\n        <path d=\"M 31.78125 34.625 \nQ 24.75 34.625 20.71875 30.859375 \nQ 16.703125 27.09375 16.703125 20.515625 \nQ 16.703125 13.921875 20.71875 10.15625 \nQ 24.75 6.390625 31.78125 6.390625 \nQ 38.8125 6.390625 42.859375 10.171875 \nQ 46.921875 13.96875 46.921875 20.515625 \nQ 46.921875 27.09375 42.890625 30.859375 \nQ 38.875 34.625 31.78125 34.625 \nz\nM 21.921875 38.8125 \nQ 15.578125 40.375 12.03125 44.71875 \nQ 8.5 49.078125 8.5 55.328125 \nQ 8.5 64.0625 14.71875 69.140625 \nQ 20.953125 74.21875 31.78125 74.21875 \nQ 42.671875 74.21875 48.875 69.140625 \nQ 55.078125 64.0625 55.078125 55.328125 \nQ 55.078125 49.078125 51.53125 44.71875 \nQ 48 40.375 41.703125 38.8125 \nQ 48.828125 37.15625 52.796875 32.3125 \nQ 56.78125 27.484375 56.78125 20.515625 \nQ 56.78125 9.90625 50.3125 4.234375 \nQ 43.84375 -1.421875 31.78125 -1.421875 \nQ 19.734375 -1.421875 13.25 4.234375 \nQ 6.78125 9.90625 6.78125 20.515625 \nQ 6.78125 27.484375 10.78125 32.3125 \nQ 14.796875 37.15625 21.921875 38.8125 \nz\nM 18.3125 54.390625 \nQ 18.3125 48.734375 21.84375 45.5625 \nQ 25.390625 42.390625 31.78125 42.390625 \nQ 38.140625 42.390625 41.71875 45.5625 \nQ 45.3125 48.734375 45.3125 54.390625 \nQ 45.3125 60.0625 41.71875 63.234375 \nQ 38.140625 66.40625 31.78125 66.40625 \nQ 25.390625 66.40625 21.84375 63.234375 \nQ 18.3125 60.0625 18.3125 54.390625 \nz\n\" id=\"DejaVuSans-56\"/>\n       </defs>\n       <use xlink:href=\"#DejaVuSans-48\"/>\n       <use x=\"63.623047\" xlink:href=\"#DejaVuSans-46\"/>\n       <use x=\"95.410156\" xlink:href=\"#DejaVuSans-56\"/>\n      </g>\n     </g>\n    </g>\n    <g id=\"xtick_5\">\n     <g id=\"line2d_5\">\n      <g>\n       <use style=\"stroke:#000000;stroke-width:0.8;\" x=\"349.684943\" xlink:href=\"#m0e42a1211f\" y=\"224.64\"/>\n      </g>\n     </g>\n     <g id=\"text_5\">\n      <!-- 1.0 -->\n      <g transform=\"translate(341.733381 239.238438)scale(0.1 -0.1)\">\n       <defs>\n        <path d=\"M 12.40625 8.296875 \nL 28.515625 8.296875 \nL 28.515625 63.921875 \nL 10.984375 60.40625 \nL 10.984375 69.390625 \nL 28.421875 72.90625 \nL 38.28125 72.90625 \nL 38.28125 8.296875 \nL 54.390625 8.296875 \nL 54.390625 0 \nL 12.40625 0 \nz\n\" id=\"DejaVuSans-49\"/>\n       </defs>\n       <use xlink:href=\"#DejaVuSans-49\"/>\n       <use x=\"63.623047\" xlink:href=\"#DejaVuSans-46\"/>\n       <use x=\"95.410156\" xlink:href=\"#DejaVuSans-48\"/>\n      </g>\n     </g>\n    </g>\n    <g id=\"text_6\">\n     <!-- T -->\n     <g transform=\"translate(194.449219 252.916563)scale(0.1 -0.1)\">\n      <defs>\n       <path d=\"M -0.296875 72.90625 \nL 61.375 72.90625 \nL 61.375 64.59375 \nL 35.5 64.59375 \nL 35.5 0 \nL 25.59375 0 \nL 25.59375 64.59375 \nL -0.296875 64.59375 \nz\n\" id=\"DejaVuSans-84\"/>\n      </defs>\n      <use xlink:href=\"#DejaVuSans-84\"/>\n     </g>\n    </g>\n   </g>\n   <g id=\"matplotlib.axis_2\">\n    <g id=\"ytick_1\">\n     <g id=\"line2d_6\">\n      <defs>\n       <path d=\"M 0 0 \nL -3.5 0 \n\" id=\"m5255bdd3b0\" style=\"stroke:#000000;stroke-width:0.8;\"/>\n      </defs>\n      <g>\n       <use style=\"stroke:#000000;stroke-width:0.8;\" x=\"30.103125\" xlink:href=\"#m5255bdd3b0\" y=\"189.759185\"/>\n      </g>\n     </g>\n     <g id=\"text_7\">\n      <!-- 3.4 -->\n      <g transform=\"translate(7.2 193.558403)scale(0.1 -0.1)\">\n       <defs>\n        <path d=\"M 40.578125 39.3125 \nQ 47.65625 37.796875 51.625 33 \nQ 55.609375 28.21875 55.609375 21.1875 \nQ 55.609375 10.40625 48.1875 4.484375 \nQ 40.765625 -1.421875 27.09375 -1.421875 \nQ 22.515625 -1.421875 17.65625 -0.515625 \nQ 12.796875 0.390625 7.625 2.203125 \nL 7.625 11.71875 \nQ 11.71875 9.328125 16.59375 8.109375 \nQ 21.484375 6.890625 26.8125 6.890625 \nQ 36.078125 6.890625 40.9375 10.546875 \nQ 45.796875 14.203125 45.796875 21.1875 \nQ 45.796875 27.640625 41.28125 31.265625 \nQ 36.765625 34.90625 28.71875 34.90625 \nL 20.21875 34.90625 \nL 20.21875 43.015625 \nL 29.109375 43.015625 \nQ 36.375 43.015625 40.234375 45.921875 \nQ 44.09375 48.828125 44.09375 54.296875 \nQ 44.09375 59.90625 40.109375 62.90625 \nQ 36.140625 65.921875 28.71875 65.921875 \nQ 24.65625 65.921875 20.015625 65.03125 \nQ 15.375 64.15625 9.8125 62.3125 \nL 9.8125 71.09375 \nQ 15.4375 72.65625 20.34375 73.4375 \nQ 25.25 74.21875 29.59375 74.21875 \nQ 40.828125 74.21875 47.359375 69.109375 \nQ 53.90625 64.015625 53.90625 55.328125 \nQ 53.90625 49.265625 50.4375 45.09375 \nQ 46.96875 40.921875 40.578125 39.3125 \nz\n\" id=\"DejaVuSans-51\"/>\n       </defs>\n       <use xlink:href=\"#DejaVuSans-51\"/>\n       <use x=\"63.623047\" xlink:href=\"#DejaVuSans-46\"/>\n       <use x=\"95.410156\" xlink:href=\"#DejaVuSans-52\"/>\n      </g>\n     </g>\n    </g>\n    <g id=\"ytick_2\">\n     <g id=\"line2d_7\">\n      <g>\n       <use style=\"stroke:#000000;stroke-width:0.8;\" x=\"30.103125\" xlink:href=\"#m5255bdd3b0\" y=\"154.302193\"/>\n      </g>\n     </g>\n     <g id=\"text_8\">\n      <!-- 3.6 -->\n      <g transform=\"translate(7.2 158.101412)scale(0.1 -0.1)\">\n       <use xlink:href=\"#DejaVuSans-51\"/>\n       <use x=\"63.623047\" xlink:href=\"#DejaVuSans-46\"/>\n       <use x=\"95.410156\" xlink:href=\"#DejaVuSans-54\"/>\n      </g>\n     </g>\n    </g>\n    <g id=\"ytick_3\">\n     <g id=\"line2d_8\">\n      <g>\n       <use style=\"stroke:#000000;stroke-width:0.8;\" x=\"30.103125\" xlink:href=\"#m5255bdd3b0\" y=\"118.845202\"/>\n      </g>\n     </g>\n     <g id=\"text_9\">\n      <!-- 3.8 -->\n      <g transform=\"translate(7.2 122.644421)scale(0.1 -0.1)\">\n       <use xlink:href=\"#DejaVuSans-51\"/>\n       <use x=\"63.623047\" xlink:href=\"#DejaVuSans-46\"/>\n       <use x=\"95.410156\" xlink:href=\"#DejaVuSans-56\"/>\n      </g>\n     </g>\n    </g>\n    <g id=\"ytick_4\">\n     <g id=\"line2d_9\">\n      <g>\n       <use style=\"stroke:#000000;stroke-width:0.8;\" x=\"30.103125\" xlink:href=\"#m5255bdd3b0\" y=\"83.38821\"/>\n      </g>\n     </g>\n     <g id=\"text_10\">\n      <!-- 4.0 -->\n      <g transform=\"translate(7.2 87.187429)scale(0.1 -0.1)\">\n       <use xlink:href=\"#DejaVuSans-52\"/>\n       <use x=\"63.623047\" xlink:href=\"#DejaVuSans-46\"/>\n       <use x=\"95.410156\" xlink:href=\"#DejaVuSans-48\"/>\n      </g>\n     </g>\n    </g>\n    <g id=\"ytick_5\">\n     <g id=\"line2d_10\">\n      <g>\n       <use style=\"stroke:#000000;stroke-width:0.8;\" x=\"30.103125\" xlink:href=\"#m5255bdd3b0\" y=\"47.931219\"/>\n      </g>\n     </g>\n     <g id=\"text_11\">\n      <!-- 4.2 -->\n      <g transform=\"translate(7.2 51.730438)scale(0.1 -0.1)\">\n       <use xlink:href=\"#DejaVuSans-52\"/>\n       <use x=\"63.623047\" xlink:href=\"#DejaVuSans-46\"/>\n       <use x=\"95.410156\" xlink:href=\"#DejaVuSans-50\"/>\n      </g>\n     </g>\n    </g>\n    <g id=\"ytick_6\">\n     <g id=\"line2d_11\">\n      <g>\n       <use style=\"stroke:#000000;stroke-width:0.8;\" x=\"30.103125\" xlink:href=\"#m5255bdd3b0\" y=\"12.474227\"/>\n      </g>\n     </g>\n     <g id=\"text_12\">\n      <!-- 4.4 -->\n      <g transform=\"translate(7.2 16.273446)scale(0.1 -0.1)\">\n       <use xlink:href=\"#DejaVuSans-52\"/>\n       <use x=\"63.623047\" xlink:href=\"#DejaVuSans-46\"/>\n       <use x=\"95.410156\" xlink:href=\"#DejaVuSans-52\"/>\n      </g>\n     </g>\n    </g>\n   </g>\n   <g id=\"LineCollection_1\">\n    <path clip-path=\"url(#pde919f5eb6)\" d=\"M 45.321307 214.756364 \nL 45.321307 207.310395 \n\" style=\"fill:none;stroke:#1f77b4;stroke-width:1.5;\"/>\n    <path clip-path=\"url(#pde919f5eb6)\" d=\"M 79.139489 184.086066 \nL 79.139489 173.448969 \n\" style=\"fill:none;stroke:#1f77b4;stroke-width:1.5;\"/>\n    <path clip-path=\"url(#pde919f5eb6)\" d=\"M 112.95767 181.249507 \nL 112.95767 167.42128 \n\" style=\"fill:none;stroke:#1f77b4;stroke-width:1.5;\"/>\n    <path clip-path=\"url(#pde919f5eb6)\" d=\"M 146.775852 170.789694 \nL 146.775852 154.834048 \n\" style=\"fill:none;stroke:#1f77b4;stroke-width:1.5;\"/>\n    <path clip-path=\"url(#pde919f5eb6)\" d=\"M 180.594034 173.271684 \nL 180.594034 155.543188 \n\" style=\"fill:none;stroke:#1f77b4;stroke-width:1.5;\"/>\n    <path clip-path=\"url(#pde919f5eb6)\" d=\"M 214.412216 159.266172 \nL 214.412216 138.346547 \n\" style=\"fill:none;stroke:#1f77b4;stroke-width:1.5;\"/>\n    <path clip-path=\"url(#pde919f5eb6)\" d=\"M 248.230398 147.210795 \nL 248.230398 124.163751 \n\" style=\"fill:none;stroke:#1f77b4;stroke-width:1.5;\"/>\n    <path clip-path=\"url(#pde919f5eb6)\" d=\"M 282.04858 94.379878 \nL 282.04858 68.850844 \n\" style=\"fill:none;stroke:#1f77b4;stroke-width:1.5;\"/>\n    <path clip-path=\"url(#pde919f5eb6)\" d=\"M 315.866761 93.138883 \nL 315.866761 64.77329 \n\" style=\"fill:none;stroke:#1f77b4;stroke-width:1.5;\"/>\n    <path clip-path=\"url(#pde919f5eb6)\" d=\"M 349.684943 47.931219 \nL 349.684943 17.083636 \n\" style=\"fill:none;stroke:#1f77b4;stroke-width:1.5;\"/>\n   </g>\n   <g id=\"line2d_12\">\n    <path clip-path=\"url(#pde919f5eb6)\" d=\"M 45.321307 211.03338 \nL 79.139489 178.767517 \nL 112.95767 174.335393 \nL 146.775852 162.811871 \nL 180.594034 164.407436 \nL 214.412216 148.80636 \nL 248.230398 135.687273 \nL 282.04858 81.615361 \nL 315.866761 78.956086 \nL 349.684943 32.507428 \n\" style=\"fill:none;stroke:#1f77b4;stroke-linecap:square;stroke-width:1.5;\"/>\n   </g>\n   <g id=\"patch_3\">\n    <path d=\"M 30.103125 224.64 \nL 30.103125 7.2 \n\" style=\"fill:none;stroke:#000000;stroke-linecap:square;stroke-linejoin:miter;stroke-width:0.8;\"/>\n   </g>\n   <g id=\"patch_4\">\n    <path d=\"M 364.903125 224.64 \nL 364.903125 7.2 \n\" style=\"fill:none;stroke:#000000;stroke-linecap:square;stroke-linejoin:miter;stroke-width:0.8;\"/>\n   </g>\n   <g id=\"patch_5\">\n    <path d=\"M 30.103125 224.64 \nL 364.903125 224.64 \n\" style=\"fill:none;stroke:#000000;stroke-linecap:square;stroke-linejoin:miter;stroke-width:0.8;\"/>\n   </g>\n   <g id=\"patch_6\">\n    <path d=\"M 30.103125 7.2 \nL 364.903125 7.2 \n\" style=\"fill:none;stroke:#000000;stroke-linecap:square;stroke-linejoin:miter;stroke-width:0.8;\"/>\n   </g>\n   <g id=\"legend_1\">\n    <g id=\"patch_7\">\n     <path d=\"M 319.584375 29.878125 \nL 357.903125 29.878125 \nQ 359.903125 29.878125 359.903125 27.878125 \nL 359.903125 14.2 \nQ 359.903125 12.2 357.903125 12.2 \nL 319.584375 12.2 \nQ 317.584375 12.2 317.584375 14.2 \nL 317.584375 27.878125 \nQ 317.584375 29.878125 319.584375 29.878125 \nz\n\" style=\"fill:#ffffff;opacity:0.8;stroke:#cccccc;stroke-linejoin:miter;\"/>\n    </g>\n    <g id=\"line2d_13\">\n     <path d=\"M 321.584375 20.298438 \nL 341.584375 20.298438 \n\" style=\"fill:none;stroke:#1f77b4;stroke-linecap:square;stroke-width:1.5;\"/>\n    </g>\n    <g id=\"line2d_14\"/>\n    <g id=\"text_13\">\n     <!-- E -->\n     <g transform=\"translate(349.584375 23.798438)scale(0.1 -0.1)\">\n      <defs>\n       <path d=\"M 9.8125 72.90625 \nL 55.90625 72.90625 \nL 55.90625 64.59375 \nL 19.671875 64.59375 \nL 19.671875 43.015625 \nL 54.390625 43.015625 \nL 54.390625 34.71875 \nL 19.671875 34.71875 \nL 19.671875 8.296875 \nL 56.78125 8.296875 \nL 56.78125 0 \nL 9.8125 0 \nz\n\" id=\"DejaVuSans-69\"/>\n      </defs>\n      <use xlink:href=\"#DejaVuSans-69\"/>\n     </g>\n    </g>\n   </g>\n  </g>\n </g>\n <defs>\n  <clipPath id=\"pde919f5eb6\">\n   <rect height=\"217.44\" width=\"334.8\" x=\"30.103125\" y=\"7.2\"/>\n  </clipPath>\n </defs>\n</svg>\n"
     },
     "metadata": {
      "needs_background": "light"
     }
    }
   ],
   "metadata": {}
  },
  {
   "cell_type": "code",
   "execution_count": 33,
   "source": [
    "import matplotlib.pyplot as plt\n",
    "fig, ax = plt.subplots(figsize=(12,12))\n",
    "df_el.plot(x=\"T\", y=\"E\", yerr=\"err\", label=\"linear no16\", ax=ax)\n",
    "df_eq.plot(x=\"T\", y=\"E\", yerr=\"err\", label=\"quadratic all\", ax=ax)"
   ],
   "outputs": [
    {
     "output_type": "execute_result",
     "data": {
      "text/plain": [
       "<AxesSubplot:xlabel='T'>"
      ]
     },
     "metadata": {},
     "execution_count": 33
    },
    {
     "output_type": "display_data",
     "data": {
      "text/plain": [
       "<Figure size 864x864 with 1 Axes>"
      ],
      "image/png": "[encoded data removed]",
      "image/svg+xml": "<?xml version=\"1.0\" encoding=\"utf-8\" standalone=\"no\"?>\n<!DOCTYPE svg PUBLIC \"-//W3C//DTD SVG 1.1//EN\"\n  \"http://www.w3.org/Graphics/SVG/1.1/DTD/svg11.dtd\">\n<!-- Created with matplotlib (https://matplotlib.org/) -->\n<svg height=\"697.07625pt\" version=\"1.1\" viewBox=\"0 0 706.903125 697.07625\" width=\"706.903125pt\" xmlns=\"http://www.w3.org/2000/svg\" xmlns:xlink=\"http://www.w3.org/1999/xlink\">\n <metadata>\n  <rdf:RDF xmlns:cc=\"http://creativecommons.org/ns#\" xmlns:dc=\"http://purl.org/dc/elements/1.1/\" xmlns:rdf=\"http://www.w3.org/1999/02/22-rdf-syntax-ns#\">\n   <cc:Work>\n    <dc:type rdf:resource=\"http://purl.org/dc/dcmitype/StillImage\"/>\n    <dc:date>2021-02-25T12:17:55.661576</dc:date>\n    <dc:format>image/svg+xml</dc:format>\n    <dc:creator>\n     <cc:Agent>\n      <dc:title>Matplotlib v3.3.2, https://matplotlib.org/</dc:title>\n     </cc:Agent>\n    </dc:creator>\n   </cc:Work>\n  </rdf:RDF>\n </metadata>\n <defs>\n  <style type=\"text/css\">*{stroke-linecap:butt;stroke-linejoin:round;}</style>\n </defs>\n <g id=\"figure_1\">\n  <g id=\"patch_1\">\n   <path d=\"M 0 697.07625 \nL 706.903125 697.07625 \nL 706.903125 0 \nL 0 0 \nz\n\" style=\"fill:none;\"/>\n  </g>\n  <g id=\"axes_1\">\n   <g id=\"patch_2\">\n    <path d=\"M 30.103125 659.52 \nL 699.703125 659.52 \nL 699.703125 7.2 \nL 30.103125 7.2 \nz\n\" style=\"fill:#ffffff;\"/>\n   </g>\n   <g id=\"matplotlib.axis_1\">\n    <g id=\"xtick_1\">\n     <g id=\"line2d_1\">\n      <defs>\n       <path d=\"M 0 0 \nL 0 3.5 \n\" id=\"m6bb0cca7f7\" style=\"stroke:#000000;stroke-width:0.8;\"/>\n      </defs>\n      <g>\n       <use style=\"stroke:#000000;stroke-width:0.8;\" x=\"128.175852\" xlink:href=\"#m6bb0cca7f7\" y=\"659.52\"/>\n      </g>\n     </g>\n     <g id=\"text_1\">\n      <!-- 0.2 -->\n      <g transform=\"translate(120.22429 674.118438)scale(0.1 -0.1)\">\n       <defs>\n        <path d=\"M 31.78125 66.40625 \nQ 24.171875 66.40625 20.328125 58.90625 \nQ 16.5 51.421875 16.5 36.375 \nQ 16.5 21.390625 20.328125 13.890625 \nQ 24.171875 6.390625 31.78125 6.390625 \nQ 39.453125 6.390625 43.28125 13.890625 \nQ 47.125 21.390625 47.125 36.375 \nQ 47.125 51.421875 43.28125 58.90625 \nQ 39.453125 66.40625 31.78125 66.40625 \nz\nM 31.78125 74.21875 \nQ 44.046875 74.21875 50.515625 64.515625 \nQ 56.984375 54.828125 56.984375 36.375 \nQ 56.984375 17.96875 50.515625 8.265625 \nQ 44.046875 -1.421875 31.78125 -1.421875 \nQ 19.53125 -1.421875 13.0625 8.265625 \nQ 6.59375 17.96875 6.59375 36.375 \nQ 6.59375 54.828125 13.0625 64.515625 \nQ 19.53125 74.21875 31.78125 74.21875 \nz\n\" id=\"DejaVuSans-48\"/>\n        <path d=\"M 10.6875 12.40625 \nL 21 12.40625 \nL 21 0 \nL 10.6875 0 \nz\n\" id=\"DejaVuSans-46\"/>\n        <path d=\"M 19.1875 8.296875 \nL 53.609375 8.296875 \nL 53.609375 0 \nL 7.328125 0 \nL 7.328125 8.296875 \nQ 12.9375 14.109375 22.625 23.890625 \nQ 32.328125 33.6875 34.8125 36.53125 \nQ 39.546875 41.84375 41.421875 45.53125 \nQ 43.3125 49.21875 43.3125 52.78125 \nQ 43.3125 58.59375 39.234375 62.25 \nQ 35.15625 65.921875 28.609375 65.921875 \nQ 23.96875 65.921875 18.8125 64.3125 \nQ 13.671875 62.703125 7.8125 59.421875 \nL 7.8125 69.390625 \nQ 13.765625 71.78125 18.9375 73 \nQ 24.125 74.21875 28.421875 74.21875 \nQ 39.75 74.21875 46.484375 68.546875 \nQ 53.21875 62.890625 53.21875 53.421875 \nQ 53.21875 48.921875 51.53125 44.890625 \nQ 49.859375 40.875 45.40625 35.40625 \nQ 44.1875 33.984375 37.640625 27.21875 \nQ 31.109375 20.453125 19.1875 8.296875 \nz\n\" id=\"DejaVuSans-50\"/>\n       </defs>\n       <use xlink:href=\"#DejaVuSans-48\"/>\n       <use x=\"63.623047\" xlink:href=\"#DejaVuSans-46\"/>\n       <use x=\"95.410156\" xlink:href=\"#DejaVuSans-50\"/>\n      </g>\n     </g>\n    </g>\n    <g id=\"xtick_2\">\n     <g id=\"line2d_2\">\n      <g>\n       <use style=\"stroke:#000000;stroke-width:0.8;\" x=\"263.44858\" xlink:href=\"#m6bb0cca7f7\" y=\"659.52\"/>\n      </g>\n     </g>\n     <g id=\"text_2\">\n      <!-- 0.4 -->\n      <g transform=\"translate(255.497017 674.118438)scale(0.1 -0.1)\">\n       <defs>\n        <path d=\"M 37.796875 64.3125 \nL 12.890625 25.390625 \nL 37.796875 25.390625 \nz\nM 35.203125 72.90625 \nL 47.609375 72.90625 \nL 47.609375 25.390625 \nL 58.015625 25.390625 \nL 58.015625 17.1875 \nL 47.609375 17.1875 \nL 47.609375 0 \nL 37.796875 0 \nL 37.796875 17.1875 \nL 4.890625 17.1875 \nL 4.890625 26.703125 \nz\n\" id=\"DejaVuSans-52\"/>\n       </defs>\n       <use xlink:href=\"#DejaVuSans-48\"/>\n       <use x=\"63.623047\" xlink:href=\"#DejaVuSans-46\"/>\n       <use x=\"95.410156\" xlink:href=\"#DejaVuSans-52\"/>\n      </g>\n     </g>\n    </g>\n    <g id=\"xtick_3\">\n     <g id=\"line2d_3\">\n      <g>\n       <use style=\"stroke:#000000;stroke-width:0.8;\" x=\"398.721307\" xlink:href=\"#m6bb0cca7f7\" y=\"659.52\"/>\n      </g>\n     </g>\n     <g id=\"text_3\">\n      <!-- 0.6 -->\n      <g transform=\"translate(390.769744 674.118438)scale(0.1 -0.1)\">\n       <defs>\n        <path d=\"M 33.015625 40.375 \nQ 26.375 40.375 22.484375 35.828125 \nQ 18.609375 31.296875 18.609375 23.390625 \nQ 18.609375 15.53125 22.484375 10.953125 \nQ 26.375 6.390625 33.015625 6.390625 \nQ 39.65625 6.390625 43.53125 10.953125 \nQ 47.40625 15.53125 47.40625 23.390625 \nQ 47.40625 31.296875 43.53125 35.828125 \nQ 39.65625 40.375 33.015625 40.375 \nz\nM 52.59375 71.296875 \nL 52.59375 62.3125 \nQ 48.875 64.0625 45.09375 64.984375 \nQ 41.3125 65.921875 37.59375 65.921875 \nQ 27.828125 65.921875 22.671875 59.328125 \nQ 17.53125 52.734375 16.796875 39.40625 \nQ 19.671875 43.65625 24.015625 45.921875 \nQ 28.375 48.1875 33.59375 48.1875 \nQ 44.578125 48.1875 50.953125 41.515625 \nQ 57.328125 34.859375 57.328125 23.390625 \nQ 57.328125 12.15625 50.6875 5.359375 \nQ 44.046875 -1.421875 33.015625 -1.421875 \nQ 20.359375 -1.421875 13.671875 8.265625 \nQ 6.984375 17.96875 6.984375 36.375 \nQ 6.984375 53.65625 15.1875 63.9375 \nQ 23.390625 74.21875 37.203125 74.21875 \nQ 40.921875 74.21875 44.703125 73.484375 \nQ 48.484375 72.75 52.59375 71.296875 \nz\n\" id=\"DejaVuSans-54\"/>\n       </defs>\n       <use xlink:href=\"#DejaVuSans-48\"/>\n       <use x=\"63.623047\" xlink:href=\"#DejaVuSans-46\"/>\n       <use x=\"95.410156\" xlink:href=\"#DejaVuSans-54\"/>\n      </g>\n     </g>\n    </g>\n    <g id=\"xtick_4\">\n     <g id=\"line2d_4\">\n      <g>\n       <use style=\"stroke:#000000;stroke-width:0.8;\" x=\"533.994034\" xlink:href=\"#m6bb0cca7f7\" y=\"659.52\"/>\n      </g>\n     </g>\n     <g id=\"text_4\">\n      <!-- 0.8 -->\n      <g transform=\"translate(526.042472 674.118438)scale(0.1 -0.1)\">\n       <defs>\n        <path d=\"M 31.78125 34.625 \nQ 24.75 34.625 20.71875 30.859375 \nQ 16.703125 27.09375 16.703125 20.515625 \nQ 16.703125 13.921875 20.71875 10.15625 \nQ 24.75 6.390625 31.78125 6.390625 \nQ 38.8125 6.390625 42.859375 10.171875 \nQ 46.921875 13.96875 46.921875 20.515625 \nQ 46.921875 27.09375 42.890625 30.859375 \nQ 38.875 34.625 31.78125 34.625 \nz\nM 21.921875 38.8125 \nQ 15.578125 40.375 12.03125 44.71875 \nQ 8.5 49.078125 8.5 55.328125 \nQ 8.5 64.0625 14.71875 69.140625 \nQ 20.953125 74.21875 31.78125 74.21875 \nQ 42.671875 74.21875 48.875 69.140625 \nQ 55.078125 64.0625 55.078125 55.328125 \nQ 55.078125 49.078125 51.53125 44.71875 \nQ 48 40.375 41.703125 38.8125 \nQ 48.828125 37.15625 52.796875 32.3125 \nQ 56.78125 27.484375 56.78125 20.515625 \nQ 56.78125 9.90625 50.3125 4.234375 \nQ 43.84375 -1.421875 31.78125 -1.421875 \nQ 19.734375 -1.421875 13.25 4.234375 \nQ 6.78125 9.90625 6.78125 20.515625 \nQ 6.78125 27.484375 10.78125 32.3125 \nQ 14.796875 37.15625 21.921875 38.8125 \nz\nM 18.3125 54.390625 \nQ 18.3125 48.734375 21.84375 45.5625 \nQ 25.390625 42.390625 31.78125 42.390625 \nQ 38.140625 42.390625 41.71875 45.5625 \nQ 45.3125 48.734375 45.3125 54.390625 \nQ 45.3125 60.0625 41.71875 63.234375 \nQ 38.140625 66.40625 31.78125 66.40625 \nQ 25.390625 66.40625 21.84375 63.234375 \nQ 18.3125 60.0625 18.3125 54.390625 \nz\n\" id=\"DejaVuSans-56\"/>\n       </defs>\n       <use xlink:href=\"#DejaVuSans-48\"/>\n       <use x=\"63.623047\" xlink:href=\"#DejaVuSans-46\"/>\n       <use x=\"95.410156\" xlink:href=\"#DejaVuSans-56\"/>\n      </g>\n     </g>\n    </g>\n    <g id=\"xtick_5\">\n     <g id=\"line2d_5\">\n      <g>\n       <use style=\"stroke:#000000;stroke-width:0.8;\" x=\"669.266761\" xlink:href=\"#m6bb0cca7f7\" y=\"659.52\"/>\n      </g>\n     </g>\n     <g id=\"text_5\">\n      <!-- 1.0 -->\n      <g transform=\"translate(661.315199 674.118438)scale(0.1 -0.1)\">\n       <defs>\n        <path d=\"M 12.40625 8.296875 \nL 28.515625 8.296875 \nL 28.515625 63.921875 \nL 10.984375 60.40625 \nL 10.984375 69.390625 \nL 28.421875 72.90625 \nL 38.28125 72.90625 \nL 38.28125 8.296875 \nL 54.390625 8.296875 \nL 54.390625 0 \nL 12.40625 0 \nz\n\" id=\"DejaVuSans-49\"/>\n       </defs>\n       <use xlink:href=\"#DejaVuSans-49\"/>\n       <use x=\"63.623047\" xlink:href=\"#DejaVuSans-46\"/>\n       <use x=\"95.410156\" xlink:href=\"#DejaVuSans-48\"/>\n      </g>\n     </g>\n    </g>\n    <g id=\"text_6\">\n     <!-- T -->\n     <g transform=\"translate(361.849219 687.796563)scale(0.1 -0.1)\">\n      <defs>\n       <path d=\"M -0.296875 72.90625 \nL 61.375 72.90625 \nL 61.375 64.59375 \nL 35.5 64.59375 \nL 35.5 0 \nL 25.59375 0 \nL 25.59375 64.59375 \nL -0.296875 64.59375 \nz\n\" id=\"DejaVuSans-84\"/>\n      </defs>\n      <use xlink:href=\"#DejaVuSans-84\"/>\n     </g>\n    </g>\n   </g>\n   <g id=\"matplotlib.axis_2\">\n    <g id=\"ytick_1\">\n     <g id=\"line2d_6\">\n      <defs>\n       <path d=\"M 0 0 \nL -3.5 0 \n\" id=\"m781c2e2ec9\" style=\"stroke:#000000;stroke-width:0.8;\"/>\n      </defs>\n      <g>\n       <use style=\"stroke:#000000;stroke-width:0.8;\" x=\"30.103125\" xlink:href=\"#m781c2e2ec9\" y=\"657.748033\"/>\n      </g>\n     </g>\n     <g id=\"text_7\">\n      <!-- 3.2 -->\n      <g transform=\"translate(7.2 661.547252)scale(0.1 -0.1)\">\n       <defs>\n        <path d=\"M 40.578125 39.3125 \nQ 47.65625 37.796875 51.625 33 \nQ 55.609375 28.21875 55.609375 21.1875 \nQ 55.609375 10.40625 48.1875 4.484375 \nQ 40.765625 -1.421875 27.09375 -1.421875 \nQ 22.515625 -1.421875 17.65625 -0.515625 \nQ 12.796875 0.390625 7.625 2.203125 \nL 7.625 11.71875 \nQ 11.71875 9.328125 16.59375 8.109375 \nQ 21.484375 6.890625 26.8125 6.890625 \nQ 36.078125 6.890625 40.9375 10.546875 \nQ 45.796875 14.203125 45.796875 21.1875 \nQ 45.796875 27.640625 41.28125 31.265625 \nQ 36.765625 34.90625 28.71875 34.90625 \nL 20.21875 34.90625 \nL 20.21875 43.015625 \nL 29.109375 43.015625 \nQ 36.375 43.015625 40.234375 45.921875 \nQ 44.09375 48.828125 44.09375 54.296875 \nQ 44.09375 59.90625 40.109375 62.90625 \nQ 36.140625 65.921875 28.71875 65.921875 \nQ 24.65625 65.921875 20.015625 65.03125 \nQ 15.375 64.15625 9.8125 62.3125 \nL 9.8125 71.09375 \nQ 15.4375 72.65625 20.34375 73.4375 \nQ 25.25 74.21875 29.59375 74.21875 \nQ 40.828125 74.21875 47.359375 69.109375 \nQ 53.90625 64.015625 53.90625 55.328125 \nQ 53.90625 49.265625 50.4375 45.09375 \nQ 46.96875 40.921875 40.578125 39.3125 \nz\n\" id=\"DejaVuSans-51\"/>\n       </defs>\n       <use xlink:href=\"#DejaVuSans-51\"/>\n       <use x=\"63.623047\" xlink:href=\"#DejaVuSans-46\"/>\n       <use x=\"95.410156\" xlink:href=\"#DejaVuSans-50\"/>\n      </g>\n     </g>\n    </g>\n    <g id=\"ytick_2\">\n     <g id=\"line2d_7\">\n      <g>\n       <use style=\"stroke:#000000;stroke-width:0.8;\" x=\"30.103125\" xlink:href=\"#m781c2e2ec9\" y=\"563.243144\"/>\n      </g>\n     </g>\n     <g id=\"text_8\">\n      <!-- 3.4 -->\n      <g transform=\"translate(7.2 567.042363)scale(0.1 -0.1)\">\n       <use xlink:href=\"#DejaVuSans-51\"/>\n       <use x=\"63.623047\" xlink:href=\"#DejaVuSans-46\"/>\n       <use x=\"95.410156\" xlink:href=\"#DejaVuSans-52\"/>\n      </g>\n     </g>\n    </g>\n    <g id=\"ytick_3\">\n     <g id=\"line2d_8\">\n      <g>\n       <use style=\"stroke:#000000;stroke-width:0.8;\" x=\"30.103125\" xlink:href=\"#m781c2e2ec9\" y=\"468.738254\"/>\n      </g>\n     </g>\n     <g id=\"text_9\">\n      <!-- 3.6 -->\n      <g transform=\"translate(7.2 472.537473)scale(0.1 -0.1)\">\n       <use xlink:href=\"#DejaVuSans-51\"/>\n       <use x=\"63.623047\" xlink:href=\"#DejaVuSans-46\"/>\n       <use x=\"95.410156\" xlink:href=\"#DejaVuSans-54\"/>\n      </g>\n     </g>\n    </g>\n    <g id=\"ytick_4\">\n     <g id=\"line2d_9\">\n      <g>\n       <use style=\"stroke:#000000;stroke-width:0.8;\" x=\"30.103125\" xlink:href=\"#m781c2e2ec9\" y=\"374.233365\"/>\n      </g>\n     </g>\n     <g id=\"text_10\">\n      <!-- 3.8 -->\n      <g transform=\"translate(7.2 378.032583)scale(0.1 -0.1)\">\n       <use xlink:href=\"#DejaVuSans-51\"/>\n       <use x=\"63.623047\" xlink:href=\"#DejaVuSans-46\"/>\n       <use x=\"95.410156\" xlink:href=\"#DejaVuSans-56\"/>\n      </g>\n     </g>\n    </g>\n    <g id=\"ytick_5\">\n     <g id=\"line2d_10\">\n      <g>\n       <use style=\"stroke:#000000;stroke-width:0.8;\" x=\"30.103125\" xlink:href=\"#m781c2e2ec9\" y=\"279.728475\"/>\n      </g>\n     </g>\n     <g id=\"text_11\">\n      <!-- 4.0 -->\n      <g transform=\"translate(7.2 283.527694)scale(0.1 -0.1)\">\n       <use xlink:href=\"#DejaVuSans-52\"/>\n       <use x=\"63.623047\" xlink:href=\"#DejaVuSans-46\"/>\n       <use x=\"95.410156\" xlink:href=\"#DejaVuSans-48\"/>\n      </g>\n     </g>\n    </g>\n    <g id=\"ytick_6\">\n     <g id=\"line2d_11\">\n      <g>\n       <use style=\"stroke:#000000;stroke-width:0.8;\" x=\"30.103125\" xlink:href=\"#m781c2e2ec9\" y=\"185.223586\"/>\n      </g>\n     </g>\n     <g id=\"text_12\">\n      <!-- 4.2 -->\n      <g transform=\"translate(7.2 189.022804)scale(0.1 -0.1)\">\n       <use xlink:href=\"#DejaVuSans-52\"/>\n       <use x=\"63.623047\" xlink:href=\"#DejaVuSans-46\"/>\n       <use x=\"95.410156\" xlink:href=\"#DejaVuSans-50\"/>\n      </g>\n     </g>\n    </g>\n    <g id=\"ytick_7\">\n     <g id=\"line2d_12\">\n      <g>\n       <use style=\"stroke:#000000;stroke-width:0.8;\" x=\"30.103125\" xlink:href=\"#m781c2e2ec9\" y=\"90.718696\"/>\n      </g>\n     </g>\n     <g id=\"text_13\">\n      <!-- 4.4 -->\n      <g transform=\"translate(7.2 94.517915)scale(0.1 -0.1)\">\n       <use xlink:href=\"#DejaVuSans-52\"/>\n       <use x=\"63.623047\" xlink:href=\"#DejaVuSans-46\"/>\n       <use x=\"95.410156\" xlink:href=\"#DejaVuSans-52\"/>\n      </g>\n     </g>\n    </g>\n   </g>\n   <g id=\"LineCollection_1\">\n    <path clip-path=\"url(#pd23d8ec1dc)\" d=\"M 60.539489 629.869091 \nL 60.539489 610.023064 \n\" style=\"fill:none;stroke:#1f77b4;stroke-width:1.5;\"/>\n    <path clip-path=\"url(#pd23d8ec1dc)\" d=\"M 128.175852 548.122361 \nL 128.175852 519.770895 \n\" style=\"fill:none;stroke:#1f77b4;stroke-width:1.5;\"/>\n    <path clip-path=\"url(#pd23d8ec1dc)\" d=\"M 195.812216 540.56197 \nL 195.812216 503.705063 \n\" style=\"fill:none;stroke:#1f77b4;stroke-width:1.5;\"/>\n    <path clip-path=\"url(#pd23d8ec1dc)\" d=\"M 263.44858 512.683028 \nL 263.44858 470.155828 \n\" style=\"fill:none;stroke:#1f77b4;stroke-width:1.5;\"/>\n    <path clip-path=\"url(#pd23d8ec1dc)\" d=\"M 331.084943 519.29837 \nL 331.084943 472.045925 \n\" style=\"fill:none;stroke:#1f77b4;stroke-width:1.5;\"/>\n    <path clip-path=\"url(#pd23d8ec1dc)\" d=\"M 398.721307 481.968939 \nL 398.721307 426.211054 \n\" style=\"fill:none;stroke:#1f77b4;stroke-width:1.5;\"/>\n    <path clip-path=\"url(#pd23d8ec1dc)\" d=\"M 466.35767 449.837276 \nL 466.35767 388.409098 \n\" style=\"fill:none;stroke:#1f77b4;stroke-width:1.5;\"/>\n    <path clip-path=\"url(#pd23d8ec1dc)\" d=\"M 533.994034 309.024991 \nL 533.994034 240.98147 \n\" style=\"fill:none;stroke:#1f77b4;stroke-width:1.5;\"/>\n    <path clip-path=\"url(#pd23d8ec1dc)\" d=\"M 601.630398 305.71732 \nL 601.630398 230.113408 \n\" style=\"fill:none;stroke:#1f77b4;stroke-width:1.5;\"/>\n    <path clip-path=\"url(#pd23d8ec1dc)\" d=\"M 669.266761 185.223586 \nL 669.266761 103.004332 \n\" style=\"fill:none;stroke:#1f77b4;stroke-width:1.5;\"/>\n   </g>\n   <g id=\"LineCollection_2\">\n    <path clip-path=\"url(#pd23d8ec1dc)\" d=\"M 60.539489 588.759464 \nL 60.539489 553.792655 \n\" style=\"fill:none;stroke:#ff7f0e;stroke-width:1.5;\"/>\n    <path clip-path=\"url(#pd23d8ec1dc)\" d=\"M 128.175852 518.353321 \nL 128.175852 467.320681 \n\" style=\"fill:none;stroke:#ff7f0e;stroke-width:1.5;\"/>\n    <path clip-path=\"url(#pd23d8ec1dc)\" d=\"M 195.812216 519.29837 \nL 195.812216 454.089996 \n\" style=\"fill:none;stroke:#ff7f0e;stroke-width:1.5;\"/>\n    <path clip-path=\"url(#pd23d8ec1dc)\" d=\"M 263.44858 505.595161 \nL 263.44858 429.99125 \n\" style=\"fill:none;stroke:#ff7f0e;stroke-width:1.5;\"/>\n    <path clip-path=\"url(#pd23d8ec1dc)\" d=\"M 331.084943 549.539935 \nL 331.084943 464.485534 \n\" style=\"fill:none;stroke:#ff7f0e;stroke-width:1.5;\"/>\n    <path clip-path=\"url(#pd23d8ec1dc)\" d=\"M 398.721307 496.144672 \nL 398.721307 396.914538 \n\" style=\"fill:none;stroke:#ff7f0e;stroke-width:1.5;\"/>\n    <path clip-path=\"url(#pd23d8ec1dc)\" d=\"M 466.35767 480.551365 \nL 466.35767 369.980645 \n\" style=\"fill:none;stroke:#ff7f0e;stroke-width:1.5;\"/>\n    <path clip-path=\"url(#pd23d8ec1dc)\" d=\"M 533.994034 275.003231 \nL 533.994034 152.146874 \n\" style=\"fill:none;stroke:#ff7f0e;stroke-width:1.5;\"/>\n    <path clip-path=\"url(#pd23d8ec1dc)\" d=\"M 601.630398 359.112582 \nL 601.630398 223.97059 \n\" style=\"fill:none;stroke:#ff7f0e;stroke-width:1.5;\"/>\n    <path clip-path=\"url(#pd23d8ec1dc)\" d=\"M 669.266761 184.278537 \nL 669.266761 36.850909 \n\" style=\"fill:none;stroke:#ff7f0e;stroke-width:1.5;\"/>\n   </g>\n   <g id=\"line2d_13\">\n    <path clip-path=\"url(#pd23d8ec1dc)\" d=\"M 60.539489 619.946078 \nL 128.175852 533.946628 \nL 195.812216 522.133517 \nL 263.44858 491.419428 \nL 331.084943 495.672148 \nL 398.721307 454.089996 \nL 466.35767 419.123187 \nL 533.994034 275.003231 \nL 601.630398 267.915364 \nL 669.266761 144.113959 \n\" style=\"fill:none;stroke:#1f77b4;stroke-linecap:square;stroke-width:1.5;\"/>\n   </g>\n   <g id=\"line2d_14\">\n    <path clip-path=\"url(#pd23d8ec1dc)\" d=\"M 60.539489 571.276059 \nL 128.175852 492.837001 \nL 195.812216 486.694183 \nL 263.44858 467.793205 \nL 331.084943 507.012735 \nL 398.721307 446.529605 \nL 466.35767 425.266005 \nL 533.994034 213.575053 \nL 601.630398 291.541586 \nL 669.266761 110.564723 \n\" style=\"fill:none;stroke:#ff7f0e;stroke-linecap:square;stroke-width:1.5;\"/>\n   </g>\n   <g id=\"patch_3\">\n    <path d=\"M 30.103125 659.52 \nL 30.103125 7.2 \n\" style=\"fill:none;stroke:#000000;stroke-linecap:square;stroke-linejoin:miter;stroke-width:0.8;\"/>\n   </g>\n   <g id=\"patch_4\">\n    <path d=\"M 699.703125 659.52 \nL 699.703125 7.2 \n\" style=\"fill:none;stroke:#000000;stroke-linecap:square;stroke-linejoin:miter;stroke-width:0.8;\"/>\n   </g>\n   <g id=\"patch_5\">\n    <path d=\"M 30.103125 659.52 \nL 699.703125 659.52 \n\" style=\"fill:none;stroke:#000000;stroke-linecap:square;stroke-linejoin:miter;stroke-width:0.8;\"/>\n   </g>\n   <g id=\"patch_6\">\n    <path d=\"M 30.103125 7.2 \nL 699.703125 7.2 \n\" style=\"fill:none;stroke:#000000;stroke-linecap:square;stroke-linejoin:miter;stroke-width:0.8;\"/>\n   </g>\n   <g id=\"legend_1\">\n    <g id=\"patch_7\">\n     <path d=\"M 598.242188 44.55625 \nL 692.703125 44.55625 \nQ 694.703125 44.55625 694.703125 42.55625 \nL 694.703125 14.2 \nQ 694.703125 12.2 692.703125 12.2 \nL 598.242188 12.2 \nQ 596.242188 12.2 596.242188 14.2 \nL 596.242188 42.55625 \nQ 596.242188 44.55625 598.242188 44.55625 \nz\n\" style=\"fill:#ffffff;opacity:0.8;stroke:#cccccc;stroke-linejoin:miter;\"/>\n    </g>\n    <g id=\"LineCollection_3\">\n     <path d=\"M 610.242188 25.298438 \nL 610.242188 15.298438 \n\" style=\"fill:none;stroke:#1f77b4;stroke-width:1.5;\"/>\n    </g>\n    <g id=\"line2d_15\">\n     <path d=\"M 600.242188 20.298438 \nL 620.242188 20.298438 \n\" style=\"fill:none;stroke:#1f77b4;stroke-linecap:square;stroke-width:1.5;\"/>\n    </g>\n    <g id=\"line2d_16\"/>\n    <g id=\"text_14\">\n     <!-- linear no16 -->\n     <g transform=\"translate(628.242188 23.798438)scale(0.1 -0.1)\">\n      <defs>\n       <path d=\"M 9.421875 75.984375 \nL 18.40625 75.984375 \nL 18.40625 0 \nL 9.421875 0 \nz\n\" id=\"DejaVuSans-108\"/>\n       <path d=\"M 9.421875 54.6875 \nL 18.40625 54.6875 \nL 18.40625 0 \nL 9.421875 0 \nz\nM 9.421875 75.984375 \nL 18.40625 75.984375 \nL 18.40625 64.59375 \nL 9.421875 64.59375 \nz\n\" id=\"DejaVuSans-105\"/>\n       <path d=\"M 54.890625 33.015625 \nL 54.890625 0 \nL 45.90625 0 \nL 45.90625 32.71875 \nQ 45.90625 40.484375 42.875 44.328125 \nQ 39.84375 48.1875 33.796875 48.1875 \nQ 26.515625 48.1875 22.3125 43.546875 \nQ 18.109375 38.921875 18.109375 30.90625 \nL 18.109375 0 \nL 9.078125 0 \nL 9.078125 54.6875 \nL 18.109375 54.6875 \nL 18.109375 46.1875 \nQ 21.34375 51.125 25.703125 53.5625 \nQ 30.078125 56 35.796875 56 \nQ 45.21875 56 50.046875 50.171875 \nQ 54.890625 44.34375 54.890625 33.015625 \nz\n\" id=\"DejaVuSans-110\"/>\n       <path d=\"M 56.203125 29.59375 \nL 56.203125 25.203125 \nL 14.890625 25.203125 \nQ 15.484375 15.921875 20.484375 11.0625 \nQ 25.484375 6.203125 34.421875 6.203125 \nQ 39.59375 6.203125 44.453125 7.46875 \nQ 49.3125 8.734375 54.109375 11.28125 \nL 54.109375 2.78125 \nQ 49.265625 0.734375 44.1875 -0.34375 \nQ 39.109375 -1.421875 33.890625 -1.421875 \nQ 20.796875 -1.421875 13.15625 6.1875 \nQ 5.515625 13.8125 5.515625 26.8125 \nQ 5.515625 40.234375 12.765625 48.109375 \nQ 20.015625 56 32.328125 56 \nQ 43.359375 56 49.78125 48.890625 \nQ 56.203125 41.796875 56.203125 29.59375 \nz\nM 47.21875 32.234375 \nQ 47.125 39.59375 43.09375 43.984375 \nQ 39.0625 48.390625 32.421875 48.390625 \nQ 24.90625 48.390625 20.390625 44.140625 \nQ 15.875 39.890625 15.1875 32.171875 \nz\n\" id=\"DejaVuSans-101\"/>\n       <path d=\"M 34.28125 27.484375 \nQ 23.390625 27.484375 19.1875 25 \nQ 14.984375 22.515625 14.984375 16.5 \nQ 14.984375 11.71875 18.140625 8.90625 \nQ 21.296875 6.109375 26.703125 6.109375 \nQ 34.1875 6.109375 38.703125 11.40625 \nQ 43.21875 16.703125 43.21875 25.484375 \nL 43.21875 27.484375 \nz\nM 52.203125 31.203125 \nL 52.203125 0 \nL 43.21875 0 \nL 43.21875 8.296875 \nQ 40.140625 3.328125 35.546875 0.953125 \nQ 30.953125 -1.421875 24.3125 -1.421875 \nQ 15.921875 -1.421875 10.953125 3.296875 \nQ 6 8.015625 6 15.921875 \nQ 6 25.140625 12.171875 29.828125 \nQ 18.359375 34.515625 30.609375 34.515625 \nL 43.21875 34.515625 \nL 43.21875 35.40625 \nQ 43.21875 41.609375 39.140625 45 \nQ 35.0625 48.390625 27.6875 48.390625 \nQ 23 48.390625 18.546875 47.265625 \nQ 14.109375 46.140625 10.015625 43.890625 \nL 10.015625 52.203125 \nQ 14.9375 54.109375 19.578125 55.046875 \nQ 24.21875 56 28.609375 56 \nQ 40.484375 56 46.34375 49.84375 \nQ 52.203125 43.703125 52.203125 31.203125 \nz\n\" id=\"DejaVuSans-97\"/>\n       <path d=\"M 41.109375 46.296875 \nQ 39.59375 47.171875 37.8125 47.578125 \nQ 36.03125 48 33.890625 48 \nQ 26.265625 48 22.1875 43.046875 \nQ 18.109375 38.09375 18.109375 28.8125 \nL 18.109375 0 \nL 9.078125 0 \nL 9.078125 54.6875 \nL 18.109375 54.6875 \nL 18.109375 46.1875 \nQ 20.953125 51.171875 25.484375 53.578125 \nQ 30.03125 56 36.53125 56 \nQ 37.453125 56 38.578125 55.875 \nQ 39.703125 55.765625 41.0625 55.515625 \nz\n\" id=\"DejaVuSans-114\"/>\n       <path id=\"DejaVuSans-32\"/>\n       <path d=\"M 30.609375 48.390625 \nQ 23.390625 48.390625 19.1875 42.75 \nQ 14.984375 37.109375 14.984375 27.296875 \nQ 14.984375 17.484375 19.15625 11.84375 \nQ 23.34375 6.203125 30.609375 6.203125 \nQ 37.796875 6.203125 41.984375 11.859375 \nQ 46.1875 17.53125 46.1875 27.296875 \nQ 46.1875 37.015625 41.984375 42.703125 \nQ 37.796875 48.390625 30.609375 48.390625 \nz\nM 30.609375 56 \nQ 42.328125 56 49.015625 48.375 \nQ 55.71875 40.765625 55.71875 27.296875 \nQ 55.71875 13.875 49.015625 6.21875 \nQ 42.328125 -1.421875 30.609375 -1.421875 \nQ 18.84375 -1.421875 12.171875 6.21875 \nQ 5.515625 13.875 5.515625 27.296875 \nQ 5.515625 40.765625 12.171875 48.375 \nQ 18.84375 56 30.609375 56 \nz\n\" id=\"DejaVuSans-111\"/>\n      </defs>\n      <use xlink:href=\"#DejaVuSans-108\"/>\n      <use x=\"27.783203\" xlink:href=\"#DejaVuSans-105\"/>\n      <use x=\"55.566406\" xlink:href=\"#DejaVuSans-110\"/>\n      <use x=\"118.945312\" xlink:href=\"#DejaVuSans-101\"/>\n      <use x=\"180.46875\" xlink:href=\"#DejaVuSans-97\"/>\n      <use x=\"241.748047\" xlink:href=\"#DejaVuSans-114\"/>\n      <use x=\"282.861328\" xlink:href=\"#DejaVuSans-32\"/>\n      <use x=\"314.648438\" xlink:href=\"#DejaVuSans-110\"/>\n      <use x=\"378.027344\" xlink:href=\"#DejaVuSans-111\"/>\n      <use x=\"439.208984\" xlink:href=\"#DejaVuSans-49\"/>\n      <use x=\"502.832031\" xlink:href=\"#DejaVuSans-54\"/>\n     </g>\n    </g>\n    <g id=\"LineCollection_4\">\n     <path d=\"M 610.242188 39.976563 \nL 610.242188 29.976563 \n\" style=\"fill:none;stroke:#ff7f0e;stroke-width:1.5;\"/>\n    </g>\n    <g id=\"line2d_17\">\n     <path d=\"M 600.242188 34.976563 \nL 620.242188 34.976563 \n\" style=\"fill:none;stroke:#ff7f0e;stroke-linecap:square;stroke-width:1.5;\"/>\n    </g>\n    <g id=\"line2d_18\"/>\n    <g id=\"text_15\">\n     <!-- quadratic all -->\n     <g transform=\"translate(628.242188 38.476563)scale(0.1 -0.1)\">\n      <defs>\n       <path d=\"M 14.796875 27.296875 \nQ 14.796875 17.390625 18.875 11.75 \nQ 22.953125 6.109375 30.078125 6.109375 \nQ 37.203125 6.109375 41.296875 11.75 \nQ 45.40625 17.390625 45.40625 27.296875 \nQ 45.40625 37.203125 41.296875 42.84375 \nQ 37.203125 48.484375 30.078125 48.484375 \nQ 22.953125 48.484375 18.875 42.84375 \nQ 14.796875 37.203125 14.796875 27.296875 \nz\nM 45.40625 8.203125 \nQ 42.578125 3.328125 38.25 0.953125 \nQ 33.9375 -1.421875 27.875 -1.421875 \nQ 17.96875 -1.421875 11.734375 6.484375 \nQ 5.515625 14.40625 5.515625 27.296875 \nQ 5.515625 40.1875 11.734375 48.09375 \nQ 17.96875 56 27.875 56 \nQ 33.9375 56 38.25 53.625 \nQ 42.578125 51.265625 45.40625 46.390625 \nL 45.40625 54.6875 \nL 54.390625 54.6875 \nL 54.390625 -20.796875 \nL 45.40625 -20.796875 \nz\n\" id=\"DejaVuSans-113\"/>\n       <path d=\"M 8.5 21.578125 \nL 8.5 54.6875 \nL 17.484375 54.6875 \nL 17.484375 21.921875 \nQ 17.484375 14.15625 20.5 10.265625 \nQ 23.53125 6.390625 29.59375 6.390625 \nQ 36.859375 6.390625 41.078125 11.03125 \nQ 45.3125 15.671875 45.3125 23.6875 \nL 45.3125 54.6875 \nL 54.296875 54.6875 \nL 54.296875 0 \nL 45.3125 0 \nL 45.3125 8.40625 \nQ 42.046875 3.421875 37.71875 1 \nQ 33.40625 -1.421875 27.6875 -1.421875 \nQ 18.265625 -1.421875 13.375 4.4375 \nQ 8.5 10.296875 8.5 21.578125 \nz\nM 31.109375 56 \nz\n\" id=\"DejaVuSans-117\"/>\n       <path d=\"M 45.40625 46.390625 \nL 45.40625 75.984375 \nL 54.390625 75.984375 \nL 54.390625 0 \nL 45.40625 0 \nL 45.40625 8.203125 \nQ 42.578125 3.328125 38.25 0.953125 \nQ 33.9375 -1.421875 27.875 -1.421875 \nQ 17.96875 -1.421875 11.734375 6.484375 \nQ 5.515625 14.40625 5.515625 27.296875 \nQ 5.515625 40.1875 11.734375 48.09375 \nQ 17.96875 56 27.875 56 \nQ 33.9375 56 38.25 53.625 \nQ 42.578125 51.265625 45.40625 46.390625 \nz\nM 14.796875 27.296875 \nQ 14.796875 17.390625 18.875 11.75 \nQ 22.953125 6.109375 30.078125 6.109375 \nQ 37.203125 6.109375 41.296875 11.75 \nQ 45.40625 17.390625 45.40625 27.296875 \nQ 45.40625 37.203125 41.296875 42.84375 \nQ 37.203125 48.484375 30.078125 48.484375 \nQ 22.953125 48.484375 18.875 42.84375 \nQ 14.796875 37.203125 14.796875 27.296875 \nz\n\" id=\"DejaVuSans-100\"/>\n       <path d=\"M 18.3125 70.21875 \nL 18.3125 54.6875 \nL 36.8125 54.6875 \nL 36.8125 47.703125 \nL 18.3125 47.703125 \nL 18.3125 18.015625 \nQ 18.3125 11.328125 20.140625 9.421875 \nQ 21.96875 7.515625 27.59375 7.515625 \nL 36.8125 7.515625 \nL 36.8125 0 \nL 27.59375 0 \nQ 17.1875 0 13.234375 3.875 \nQ 9.28125 7.765625 9.28125 18.015625 \nL 9.28125 47.703125 \nL 2.6875 47.703125 \nL 2.6875 54.6875 \nL 9.28125 54.6875 \nL 9.28125 70.21875 \nz\n\" id=\"DejaVuSans-116\"/>\n       <path d=\"M 48.78125 52.59375 \nL 48.78125 44.1875 \nQ 44.96875 46.296875 41.140625 47.34375 \nQ 37.3125 48.390625 33.40625 48.390625 \nQ 24.65625 48.390625 19.8125 42.84375 \nQ 14.984375 37.3125 14.984375 27.296875 \nQ 14.984375 17.28125 19.8125 11.734375 \nQ 24.65625 6.203125 33.40625 6.203125 \nQ 37.3125 6.203125 41.140625 7.25 \nQ 44.96875 8.296875 48.78125 10.40625 \nL 48.78125 2.09375 \nQ 45.015625 0.34375 40.984375 -0.53125 \nQ 36.96875 -1.421875 32.421875 -1.421875 \nQ 20.0625 -1.421875 12.78125 6.34375 \nQ 5.515625 14.109375 5.515625 27.296875 \nQ 5.515625 40.671875 12.859375 48.328125 \nQ 20.21875 56 33.015625 56 \nQ 37.15625 56 41.109375 55.140625 \nQ 45.0625 54.296875 48.78125 52.59375 \nz\n\" id=\"DejaVuSans-99\"/>\n      </defs>\n      <use xlink:href=\"#DejaVuSans-113\"/>\n      <use x=\"63.476562\" xlink:href=\"#DejaVuSans-117\"/>\n      <use x=\"126.855469\" xlink:href=\"#DejaVuSans-97\"/>\n      <use x=\"188.134766\" xlink:href=\"#DejaVuSans-100\"/>\n      <use x=\"251.611328\" xlink:href=\"#DejaVuSans-114\"/>\n      <use x=\"292.724609\" xlink:href=\"#DejaVuSans-97\"/>\n      <use x=\"354.003906\" xlink:href=\"#DejaVuSans-116\"/>\n      <use x=\"393.212891\" xlink:href=\"#DejaVuSans-105\"/>\n      <use x=\"420.996094\" xlink:href=\"#DejaVuSans-99\"/>\n      <use x=\"475.976562\" xlink:href=\"#DejaVuSans-32\"/>\n      <use x=\"507.763672\" xlink:href=\"#DejaVuSans-97\"/>\n      <use x=\"569.042969\" xlink:href=\"#DejaVuSans-108\"/>\n      <use x=\"596.826172\" xlink:href=\"#DejaVuSans-108\"/>\n     </g>\n    </g>\n   </g>\n  </g>\n </g>\n <defs>\n  <clipPath id=\"pd23d8ec1dc\">\n   <rect height=\"652.32\" width=\"669.6\" x=\"30.103125\" y=\"7.2\"/>\n  </clipPath>\n </defs>\n</svg>\n"
     },
     "metadata": {
      "needs_background": "light"
     }
    }
   ],
   "metadata": {}
  },
  {
   "cell_type": "code",
   "execution_count": null,
   "source": [],
   "outputs": [],
   "metadata": {}
  }
 ]
}